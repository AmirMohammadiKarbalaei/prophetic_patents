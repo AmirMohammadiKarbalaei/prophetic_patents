{
 "cells": [
  {
   "cell_type": "markdown",
   "metadata": {},
   "source": [
    "# TO DO\n",
    "1. extract all text untill next example\n",
    "2. clean the collected urls to only include lates version ( removes duplication)\n",
    "https://ppubs.uspto.gov/pubwebapp/static/pages/ppubsbasic.html"
   ]
  },
  {
   "cell_type": "markdown",
   "metadata": {},
   "source": [
    "# Imports"
   ]
  },
  {
   "cell_type": "code",
   "execution_count": 1,
   "metadata": {},
   "outputs": [],
   "source": [
    "from collection import collect_urls,download_files,unzip_files\n",
    "from utils import extract_examples_start_w_word,find_doc_number,process_siblings,extract_num_dot_examples,extract_examples_w_word,extract_experiments_w_heading,save_as_json,remove_duplicate_docs\n",
    "\n",
    "download_path = \"E:\\\\patents_data_23_24\"\n",
    "unzip_path = \"E:\\\\unzipped_patents_23_24\""
   ]
  },
  {
   "cell_type": "markdown",
   "metadata": {},
   "source": [
    "# Data Collection"
   ]
  },
  {
   "cell_type": "code",
   "execution_count": 9,
   "metadata": {},
   "outputs": [
    {
     "name": "stdout",
     "output_type": "stream",
     "text": [
      "2\n"
     ]
    }
   ],
   "source": [
    "from lxml import etree\n",
    "import requests\n",
    "\n",
    "# url =\"https://bulkdata.uspto.gov/data/patent/application/redbook/fulltext/2023/\"\n",
    "# rp = requests.get(url, timeout=10)\n",
    "# parser = etree.XMLParser(recover=True)\n",
    "# root = etree.fromstring(rp.text.encode(), parser)\n",
    "# href_values = root.findall(\".//a[@href]\") \n",
    "# urls = [href.get('href') for href in href_values if href.get('href').endswith('.zip')]\n",
    "# for ur in urls[:10]:\n",
    "#     print(url + ur)\n",
    "\n",
    "start_year = int(input(\"Enter the year you want to start from: \"))\n",
    "end_year = int(input(\"Enter the year you want to end at: \"))\n",
    "\n",
    "\n",
    "def fetch_urls_from_pto(start_year,end_year):\n",
    "    urls = {}\n",
    "    for year in range(start_year, end_year + 1):\n",
    "        url = f\"https://bulkdata.uspto.gov/data/patent/application/redbook/fulltext/{year}/\"\n",
    "        rp = requests.get(url, timeout=10)\n",
    "        parser = etree.XMLParser(recover=True)\n",
    "        root = etree.fromstring(rp.text.encode(), parser)\n",
    "        href_values = root.findall(\".//a[@href]\")\n",
    "        urls[year] = [href.get('href') for href in href_values if href.get('href').endswith('.zip')]\n",
    "    return urls\n",
    "\n",
    "urls = fetch_urls_from_pto(start_year,end_year)\n",
    "print(len(urls))"
   ]
  },
  {
   "cell_type": "code",
   "execution_count": 26,
   "metadata": {},
   "outputs": [],
   "source": [
    "\n",
    "import re\n",
    "from collections import defaultdict\n",
    "latest_versions = {}\n",
    "latest_files={}\n",
    "\n",
    "# Regex to extract date and optional revision number\n",
    "pattern = re.compile(r\"(ipa\\d{6})(?:_r(\\d+))?\\.zip\")\n",
    "for year in urls.keys():\n",
    "    latest_versions = {}\n",
    "    for file in urls[year]:\n",
    "        match = pattern.match(file)\n",
    "        if match:\n",
    "            base_name, revision = match.groups()\n",
    "            revision = int(revision) if revision else 0  # Default to 0 if no revision\n",
    "            \n",
    "            # Extract the current highest revision number for the base_name\n",
    "            current_revision_match = re.search(r'_r(\\d+)', latest_versions.get(base_name, \"\"))\n",
    "            current_revision = int(current_revision_match.group(1)) if current_revision_match else 0\n",
    "            \n",
    "            # Update if the new file has a higher revision\n",
    "            if base_name not in latest_versions or revision > current_revision:\n",
    "                latest_versions[base_name] = file\n",
    "\n",
    "# Get the final list of unique latest versions\n",
    "    latest_files[year] = sorted(latest_versions.values())\n"
   ]
  },
  {
   "cell_type": "code",
   "execution_count": 29,
   "metadata": {},
   "outputs": [
    {
     "name": "stdout",
     "output_type": "stream",
     "text": [
      "Downloaded ipa230105.zip ------- 1 / 52\n",
      "Downloaded ipa230112_r1.zip ------- 2 / 52\n",
      "Downloaded ipa230119_r1.zip ------- 3 / 52\n",
      "Downloaded ipa230126_r2.zip ------- 4 / 52\n",
      "Downloaded ipa230202_r2.zip ------- 5 / 52\n",
      "Downloaded ipa230209_r1.zip ------- 6 / 52\n",
      "Downloaded ipa230216_r2.zip ------- 7 / 52\n",
      "Downloaded ipa230223.zip ------- 8 / 52\n",
      "Downloaded ipa230302.zip ------- 9 / 52\n",
      "Downloaded ipa230309.zip ------- 10 / 52\n",
      "Downloaded ipa230316.zip ------- 11 / 52\n",
      "Downloaded ipa230323.zip ------- 12 / 52\n",
      "Downloaded ipa230330.zip ------- 13 / 52\n",
      "Downloaded ipa230406.zip ------- 14 / 52\n",
      "Downloaded ipa230413.zip ------- 15 / 52\n",
      "Downloaded ipa230420.zip ------- 16 / 52\n",
      "Downloaded ipa230427.zip ------- 17 / 52\n",
      "Downloaded ipa230504_r1.zip ------- 18 / 52\n",
      "Downloaded ipa230511_r1.zip ------- 19 / 52\n",
      "Downloaded ipa230518.zip ------- 20 / 52\n",
      "Downloaded ipa230525.zip ------- 21 / 52\n",
      "Downloaded ipa230601.zip ------- 22 / 52\n",
      "Downloaded ipa230608.zip ------- 23 / 52\n",
      "Downloaded ipa230615.zip ------- 24 / 52\n",
      "Downloaded ipa230622.zip ------- 25 / 52\n",
      "Downloaded ipa230629.zip ------- 26 / 52\n",
      "Downloaded ipa230706.zip ------- 27 / 52\n",
      "Downloaded ipa230713.zip ------- 28 / 52\n",
      "Downloaded ipa230720.zip ------- 29 / 52\n",
      "Downloaded ipa230727_r2.zip ------- 30 / 52\n",
      "Downloaded ipa230803_r2.zip ------- 31 / 52\n",
      "Downloaded ipa230810.zip ------- 32 / 52\n",
      "Downloaded ipa230817.zip ------- 33 / 52\n",
      "Downloaded ipa230824.zip ------- 34 / 52\n",
      "Downloaded ipa230831.zip ------- 35 / 52\n",
      "Downloaded ipa230907.zip ------- 36 / 52\n",
      "Downloaded ipa230914.zip ------- 37 / 52\n",
      "Downloaded ipa230921_r1.zip ------- 38 / 52\n",
      "Downloaded ipa230928.zip ------- 39 / 52\n",
      "Downloaded ipa231005_r2.zip ------- 40 / 52\n",
      "Downloaded ipa231012_r2.zip ------- 41 / 52\n",
      "Downloaded ipa231019.zip ------- 42 / 52\n",
      "Downloaded ipa231026.zip ------- 43 / 52\n",
      "Downloaded ipa231102.zip ------- 44 / 52\n",
      "Downloaded ipa231109.zip ------- 45 / 52\n",
      "Downloaded ipa231116.zip ------- 46 / 52\n",
      "Downloaded ipa231123.zip ------- 47 / 52\n",
      "Downloaded ipa231130_r1.zip ------- 48 / 52\n",
      "Downloaded ipa231207_r1.zip ------- 49 / 52\n",
      "Downloaded ipa231214_r1.zip ------- 50 / 52\n",
      "Downloaded ipa231221_r1.zip ------- 51 / 52\n",
      "Downloaded ipa231228_r1.zip ------- 52 / 52\n",
      "Downloaded ipa240104_r1.zip ------- 1 / 52\n",
      "Downloaded ipa240111_r1.zip ------- 2 / 52\n",
      "Downloaded ipa240118_r1.zip ------- 3 / 52\n",
      "Downloaded ipa240125_r1.zip ------- 4 / 52\n",
      "Downloaded ipa240201_r1.zip ------- 5 / 52\n",
      "Downloaded ipa240208_r1.zip ------- 6 / 52\n",
      "Downloaded ipa240215.zip ------- 7 / 52\n",
      "Downloaded ipa240222.zip ------- 8 / 52\n",
      "Downloaded ipa240229.zip ------- 9 / 52\n",
      "Downloaded ipa240307.zip ------- 10 / 52\n",
      "Downloaded ipa240314.zip ------- 11 / 52\n",
      "Downloaded ipa240321.zip ------- 12 / 52\n",
      "Downloaded ipa240328.zip ------- 13 / 52\n",
      "Downloaded ipa240404.zip ------- 14 / 52\n",
      "Downloaded ipa240411.zip ------- 15 / 52\n",
      "Downloaded ipa240418.zip ------- 16 / 52\n",
      "Downloaded ipa240425.zip ------- 17 / 52\n",
      "Downloaded ipa240502.zip ------- 18 / 52\n",
      "Downloaded ipa240509.zip ------- 19 / 52\n",
      "Downloaded ipa240516.zip ------- 20 / 52\n",
      "Downloaded ipa240523.zip ------- 21 / 52\n",
      "Downloaded ipa240530.zip ------- 22 / 52\n",
      "Downloaded ipa240606.zip ------- 23 / 52\n",
      "Downloaded ipa240613.zip ------- 24 / 52\n",
      "Downloaded ipa240620.zip ------- 25 / 52\n",
      "Downloaded ipa240627.zip ------- 26 / 52\n",
      "Downloaded ipa240704.zip ------- 27 / 52\n",
      "Downloaded ipa240711.zip ------- 28 / 52\n",
      "Downloaded ipa240718.zip ------- 29 / 52\n",
      "Downloaded ipa240725.zip ------- 30 / 52\n",
      "Downloaded ipa240801.zip ------- 31 / 52\n",
      "Downloaded ipa240808.zip ------- 32 / 52\n",
      "Downloaded ipa240815.zip ------- 33 / 52\n",
      "Downloaded ipa240822.zip ------- 34 / 52\n",
      "Downloaded ipa240829.zip ------- 35 / 52\n",
      "Downloaded ipa240905.zip ------- 36 / 52\n",
      "Downloaded ipa240912.zip ------- 37 / 52\n",
      "Downloaded ipa240919.zip ------- 38 / 52\n"
     ]
    },
    {
     "ename": "ConnectTimeout",
     "evalue": "HTTPSConnectionPool(host='bulkdata.uspto.gov', port=443): Max retries exceeded with url: /data/patent/application/redbook/fulltext/2024/ipa240926.zip (Caused by ConnectTimeoutError(<urllib3.connection.HTTPSConnection object at 0x000002392B8C8CA0>, 'Connection to bulkdata.uspto.gov timed out. (connect timeout=10)'))",
     "output_type": "error",
     "traceback": [
      "\u001b[1;31m---------------------------------------------------------------------------\u001b[0m",
      "\u001b[1;31mtimeout\u001b[0m                                   Traceback (most recent call last)",
      "File \u001b[1;32mc:\\ProgramData\\anaconda3\\lib\\site-packages\\urllib3\\connection.py:174\u001b[0m, in \u001b[0;36mHTTPConnection._new_conn\u001b[1;34m(self)\u001b[0m\n\u001b[0;32m    173\u001b[0m \u001b[38;5;28;01mtry\u001b[39;00m:\n\u001b[1;32m--> 174\u001b[0m     conn \u001b[38;5;241m=\u001b[39m connection\u001b[38;5;241m.\u001b[39mcreate_connection(\n\u001b[0;32m    175\u001b[0m         (\u001b[38;5;28mself\u001b[39m\u001b[38;5;241m.\u001b[39m_dns_host, \u001b[38;5;28mself\u001b[39m\u001b[38;5;241m.\u001b[39mport), \u001b[38;5;28mself\u001b[39m\u001b[38;5;241m.\u001b[39mtimeout, \u001b[38;5;241m*\u001b[39m\u001b[38;5;241m*\u001b[39mextra_kw\n\u001b[0;32m    176\u001b[0m     )\n\u001b[0;32m    178\u001b[0m \u001b[38;5;28;01mexcept\u001b[39;00m SocketTimeout:\n",
      "File \u001b[1;32mc:\\ProgramData\\anaconda3\\lib\\site-packages\\urllib3\\util\\connection.py:95\u001b[0m, in \u001b[0;36mcreate_connection\u001b[1;34m(address, timeout, source_address, socket_options)\u001b[0m\n\u001b[0;32m     94\u001b[0m \u001b[38;5;28;01mif\u001b[39;00m err \u001b[38;5;129;01mis\u001b[39;00m \u001b[38;5;129;01mnot\u001b[39;00m \u001b[38;5;28;01mNone\u001b[39;00m:\n\u001b[1;32m---> 95\u001b[0m     \u001b[38;5;28;01mraise\u001b[39;00m err\n\u001b[0;32m     97\u001b[0m \u001b[38;5;28;01mraise\u001b[39;00m socket\u001b[38;5;241m.\u001b[39merror(\u001b[38;5;124m\"\u001b[39m\u001b[38;5;124mgetaddrinfo returns an empty list\u001b[39m\u001b[38;5;124m\"\u001b[39m)\n",
      "File \u001b[1;32mc:\\ProgramData\\anaconda3\\lib\\site-packages\\urllib3\\util\\connection.py:85\u001b[0m, in \u001b[0;36mcreate_connection\u001b[1;34m(address, timeout, source_address, socket_options)\u001b[0m\n\u001b[0;32m     84\u001b[0m     sock\u001b[38;5;241m.\u001b[39mbind(source_address)\n\u001b[1;32m---> 85\u001b[0m \u001b[43msock\u001b[49m\u001b[38;5;241;43m.\u001b[39;49m\u001b[43mconnect\u001b[49m\u001b[43m(\u001b[49m\u001b[43msa\u001b[49m\u001b[43m)\u001b[49m\n\u001b[0;32m     86\u001b[0m \u001b[38;5;28;01mreturn\u001b[39;00m sock\n",
      "\u001b[1;31mtimeout\u001b[0m: timed out",
      "\nDuring handling of the above exception, another exception occurred:\n",
      "\u001b[1;31mConnectTimeoutError\u001b[0m                       Traceback (most recent call last)",
      "File \u001b[1;32mc:\\ProgramData\\anaconda3\\lib\\site-packages\\urllib3\\connectionpool.py:703\u001b[0m, in \u001b[0;36mHTTPConnectionPool.urlopen\u001b[1;34m(self, method, url, body, headers, retries, redirect, assert_same_host, timeout, pool_timeout, release_conn, chunked, body_pos, **response_kw)\u001b[0m\n\u001b[0;32m    702\u001b[0m \u001b[38;5;66;03m# Make the request on the httplib connection object.\u001b[39;00m\n\u001b[1;32m--> 703\u001b[0m httplib_response \u001b[38;5;241m=\u001b[39m \u001b[38;5;28;43mself\u001b[39;49m\u001b[38;5;241;43m.\u001b[39;49m\u001b[43m_make_request\u001b[49m\u001b[43m(\u001b[49m\n\u001b[0;32m    704\u001b[0m \u001b[43m    \u001b[49m\u001b[43mconn\u001b[49m\u001b[43m,\u001b[49m\n\u001b[0;32m    705\u001b[0m \u001b[43m    \u001b[49m\u001b[43mmethod\u001b[49m\u001b[43m,\u001b[49m\n\u001b[0;32m    706\u001b[0m \u001b[43m    \u001b[49m\u001b[43murl\u001b[49m\u001b[43m,\u001b[49m\n\u001b[0;32m    707\u001b[0m \u001b[43m    \u001b[49m\u001b[43mtimeout\u001b[49m\u001b[38;5;241;43m=\u001b[39;49m\u001b[43mtimeout_obj\u001b[49m\u001b[43m,\u001b[49m\n\u001b[0;32m    708\u001b[0m \u001b[43m    \u001b[49m\u001b[43mbody\u001b[49m\u001b[38;5;241;43m=\u001b[39;49m\u001b[43mbody\u001b[49m\u001b[43m,\u001b[49m\n\u001b[0;32m    709\u001b[0m \u001b[43m    \u001b[49m\u001b[43mheaders\u001b[49m\u001b[38;5;241;43m=\u001b[39;49m\u001b[43mheaders\u001b[49m\u001b[43m,\u001b[49m\n\u001b[0;32m    710\u001b[0m \u001b[43m    \u001b[49m\u001b[43mchunked\u001b[49m\u001b[38;5;241;43m=\u001b[39;49m\u001b[43mchunked\u001b[49m\u001b[43m,\u001b[49m\n\u001b[0;32m    711\u001b[0m \u001b[43m\u001b[49m\u001b[43m)\u001b[49m\n\u001b[0;32m    713\u001b[0m \u001b[38;5;66;03m# If we're going to release the connection in ``finally:``, then\u001b[39;00m\n\u001b[0;32m    714\u001b[0m \u001b[38;5;66;03m# the response doesn't need to know about the connection. Otherwise\u001b[39;00m\n\u001b[0;32m    715\u001b[0m \u001b[38;5;66;03m# it will also try to release it and we'll have a double-release\u001b[39;00m\n\u001b[0;32m    716\u001b[0m \u001b[38;5;66;03m# mess.\u001b[39;00m\n",
      "File \u001b[1;32mc:\\ProgramData\\anaconda3\\lib\\site-packages\\urllib3\\connectionpool.py:386\u001b[0m, in \u001b[0;36mHTTPConnectionPool._make_request\u001b[1;34m(self, conn, method, url, timeout, chunked, **httplib_request_kw)\u001b[0m\n\u001b[0;32m    385\u001b[0m \u001b[38;5;28;01mtry\u001b[39;00m:\n\u001b[1;32m--> 386\u001b[0m     \u001b[38;5;28;43mself\u001b[39;49m\u001b[38;5;241;43m.\u001b[39;49m\u001b[43m_validate_conn\u001b[49m\u001b[43m(\u001b[49m\u001b[43mconn\u001b[49m\u001b[43m)\u001b[49m\n\u001b[0;32m    387\u001b[0m \u001b[38;5;28;01mexcept\u001b[39;00m (SocketTimeout, BaseSSLError) \u001b[38;5;28;01mas\u001b[39;00m e:\n\u001b[0;32m    388\u001b[0m     \u001b[38;5;66;03m# Py2 raises this as a BaseSSLError, Py3 raises it as socket timeout.\u001b[39;00m\n",
      "File \u001b[1;32mc:\\ProgramData\\anaconda3\\lib\\site-packages\\urllib3\\connectionpool.py:1040\u001b[0m, in \u001b[0;36mHTTPSConnectionPool._validate_conn\u001b[1;34m(self, conn)\u001b[0m\n\u001b[0;32m   1039\u001b[0m \u001b[38;5;28;01mif\u001b[39;00m \u001b[38;5;129;01mnot\u001b[39;00m \u001b[38;5;28mgetattr\u001b[39m(conn, \u001b[38;5;124m\"\u001b[39m\u001b[38;5;124msock\u001b[39m\u001b[38;5;124m\"\u001b[39m, \u001b[38;5;28;01mNone\u001b[39;00m):  \u001b[38;5;66;03m# AppEngine might not have  `.sock`\u001b[39;00m\n\u001b[1;32m-> 1040\u001b[0m     \u001b[43mconn\u001b[49m\u001b[38;5;241;43m.\u001b[39;49m\u001b[43mconnect\u001b[49m\u001b[43m(\u001b[49m\u001b[43m)\u001b[49m\n\u001b[0;32m   1042\u001b[0m \u001b[38;5;28;01mif\u001b[39;00m \u001b[38;5;129;01mnot\u001b[39;00m conn\u001b[38;5;241m.\u001b[39mis_verified:\n",
      "File \u001b[1;32mc:\\ProgramData\\anaconda3\\lib\\site-packages\\urllib3\\connection.py:358\u001b[0m, in \u001b[0;36mHTTPSConnection.connect\u001b[1;34m(self)\u001b[0m\n\u001b[0;32m    356\u001b[0m \u001b[38;5;28;01mdef\u001b[39;00m \u001b[38;5;21mconnect\u001b[39m(\u001b[38;5;28mself\u001b[39m):\n\u001b[0;32m    357\u001b[0m     \u001b[38;5;66;03m# Add certificate verification\u001b[39;00m\n\u001b[1;32m--> 358\u001b[0m     \u001b[38;5;28mself\u001b[39m\u001b[38;5;241m.\u001b[39msock \u001b[38;5;241m=\u001b[39m conn \u001b[38;5;241m=\u001b[39m \u001b[38;5;28;43mself\u001b[39;49m\u001b[38;5;241;43m.\u001b[39;49m\u001b[43m_new_conn\u001b[49m\u001b[43m(\u001b[49m\u001b[43m)\u001b[49m\n\u001b[0;32m    359\u001b[0m     hostname \u001b[38;5;241m=\u001b[39m \u001b[38;5;28mself\u001b[39m\u001b[38;5;241m.\u001b[39mhost\n",
      "File \u001b[1;32mc:\\ProgramData\\anaconda3\\lib\\site-packages\\urllib3\\connection.py:179\u001b[0m, in \u001b[0;36mHTTPConnection._new_conn\u001b[1;34m(self)\u001b[0m\n\u001b[0;32m    178\u001b[0m \u001b[38;5;28;01mexcept\u001b[39;00m SocketTimeout:\n\u001b[1;32m--> 179\u001b[0m     \u001b[38;5;28;01mraise\u001b[39;00m ConnectTimeoutError(\n\u001b[0;32m    180\u001b[0m         \u001b[38;5;28mself\u001b[39m,\n\u001b[0;32m    181\u001b[0m         \u001b[38;5;124m\"\u001b[39m\u001b[38;5;124mConnection to \u001b[39m\u001b[38;5;132;01m%s\u001b[39;00m\u001b[38;5;124m timed out. (connect timeout=\u001b[39m\u001b[38;5;132;01m%s\u001b[39;00m\u001b[38;5;124m)\u001b[39m\u001b[38;5;124m\"\u001b[39m\n\u001b[0;32m    182\u001b[0m         \u001b[38;5;241m%\u001b[39m (\u001b[38;5;28mself\u001b[39m\u001b[38;5;241m.\u001b[39mhost, \u001b[38;5;28mself\u001b[39m\u001b[38;5;241m.\u001b[39mtimeout),\n\u001b[0;32m    183\u001b[0m     )\n\u001b[0;32m    185\u001b[0m \u001b[38;5;28;01mexcept\u001b[39;00m SocketError \u001b[38;5;28;01mas\u001b[39;00m e:\n",
      "\u001b[1;31mConnectTimeoutError\u001b[0m: (<urllib3.connection.HTTPSConnection object at 0x000002392B8C8CA0>, 'Connection to bulkdata.uspto.gov timed out. (connect timeout=10)')",
      "\nDuring handling of the above exception, another exception occurred:\n",
      "\u001b[1;31mMaxRetryError\u001b[0m                             Traceback (most recent call last)",
      "File \u001b[1;32mc:\\ProgramData\\anaconda3\\lib\\site-packages\\requests\\adapters.py:440\u001b[0m, in \u001b[0;36mHTTPAdapter.send\u001b[1;34m(self, request, stream, timeout, verify, cert, proxies)\u001b[0m\n\u001b[0;32m    439\u001b[0m \u001b[38;5;28;01mif\u001b[39;00m \u001b[38;5;129;01mnot\u001b[39;00m chunked:\n\u001b[1;32m--> 440\u001b[0m     resp \u001b[38;5;241m=\u001b[39m \u001b[43mconn\u001b[49m\u001b[38;5;241;43m.\u001b[39;49m\u001b[43murlopen\u001b[49m\u001b[43m(\u001b[49m\n\u001b[0;32m    441\u001b[0m \u001b[43m        \u001b[49m\u001b[43mmethod\u001b[49m\u001b[38;5;241;43m=\u001b[39;49m\u001b[43mrequest\u001b[49m\u001b[38;5;241;43m.\u001b[39;49m\u001b[43mmethod\u001b[49m\u001b[43m,\u001b[49m\n\u001b[0;32m    442\u001b[0m \u001b[43m        \u001b[49m\u001b[43murl\u001b[49m\u001b[38;5;241;43m=\u001b[39;49m\u001b[43murl\u001b[49m\u001b[43m,\u001b[49m\n\u001b[0;32m    443\u001b[0m \u001b[43m        \u001b[49m\u001b[43mbody\u001b[49m\u001b[38;5;241;43m=\u001b[39;49m\u001b[43mrequest\u001b[49m\u001b[38;5;241;43m.\u001b[39;49m\u001b[43mbody\u001b[49m\u001b[43m,\u001b[49m\n\u001b[0;32m    444\u001b[0m \u001b[43m        \u001b[49m\u001b[43mheaders\u001b[49m\u001b[38;5;241;43m=\u001b[39;49m\u001b[43mrequest\u001b[49m\u001b[38;5;241;43m.\u001b[39;49m\u001b[43mheaders\u001b[49m\u001b[43m,\u001b[49m\n\u001b[0;32m    445\u001b[0m \u001b[43m        \u001b[49m\u001b[43mredirect\u001b[49m\u001b[38;5;241;43m=\u001b[39;49m\u001b[38;5;28;43;01mFalse\u001b[39;49;00m\u001b[43m,\u001b[49m\n\u001b[0;32m    446\u001b[0m \u001b[43m        \u001b[49m\u001b[43massert_same_host\u001b[49m\u001b[38;5;241;43m=\u001b[39;49m\u001b[38;5;28;43;01mFalse\u001b[39;49;00m\u001b[43m,\u001b[49m\n\u001b[0;32m    447\u001b[0m \u001b[43m        \u001b[49m\u001b[43mpreload_content\u001b[49m\u001b[38;5;241;43m=\u001b[39;49m\u001b[38;5;28;43;01mFalse\u001b[39;49;00m\u001b[43m,\u001b[49m\n\u001b[0;32m    448\u001b[0m \u001b[43m        \u001b[49m\u001b[43mdecode_content\u001b[49m\u001b[38;5;241;43m=\u001b[39;49m\u001b[38;5;28;43;01mFalse\u001b[39;49;00m\u001b[43m,\u001b[49m\n\u001b[0;32m    449\u001b[0m \u001b[43m        \u001b[49m\u001b[43mretries\u001b[49m\u001b[38;5;241;43m=\u001b[39;49m\u001b[38;5;28;43mself\u001b[39;49m\u001b[38;5;241;43m.\u001b[39;49m\u001b[43mmax_retries\u001b[49m\u001b[43m,\u001b[49m\n\u001b[0;32m    450\u001b[0m \u001b[43m        \u001b[49m\u001b[43mtimeout\u001b[49m\u001b[38;5;241;43m=\u001b[39;49m\u001b[43mtimeout\u001b[49m\n\u001b[0;32m    451\u001b[0m \u001b[43m    \u001b[49m\u001b[43m)\u001b[49m\n\u001b[0;32m    453\u001b[0m \u001b[38;5;66;03m# Send the request.\u001b[39;00m\n\u001b[0;32m    454\u001b[0m \u001b[38;5;28;01melse\u001b[39;00m:\n",
      "File \u001b[1;32mc:\\ProgramData\\anaconda3\\lib\\site-packages\\urllib3\\connectionpool.py:785\u001b[0m, in \u001b[0;36mHTTPConnectionPool.urlopen\u001b[1;34m(self, method, url, body, headers, retries, redirect, assert_same_host, timeout, pool_timeout, release_conn, chunked, body_pos, **response_kw)\u001b[0m\n\u001b[0;32m    783\u001b[0m     e \u001b[38;5;241m=\u001b[39m ProtocolError(\u001b[38;5;124m\"\u001b[39m\u001b[38;5;124mConnection aborted.\u001b[39m\u001b[38;5;124m\"\u001b[39m, e)\n\u001b[1;32m--> 785\u001b[0m retries \u001b[38;5;241m=\u001b[39m \u001b[43mretries\u001b[49m\u001b[38;5;241;43m.\u001b[39;49m\u001b[43mincrement\u001b[49m\u001b[43m(\u001b[49m\n\u001b[0;32m    786\u001b[0m \u001b[43m    \u001b[49m\u001b[43mmethod\u001b[49m\u001b[43m,\u001b[49m\u001b[43m \u001b[49m\u001b[43murl\u001b[49m\u001b[43m,\u001b[49m\u001b[43m \u001b[49m\u001b[43merror\u001b[49m\u001b[38;5;241;43m=\u001b[39;49m\u001b[43me\u001b[49m\u001b[43m,\u001b[49m\u001b[43m \u001b[49m\u001b[43m_pool\u001b[49m\u001b[38;5;241;43m=\u001b[39;49m\u001b[38;5;28;43mself\u001b[39;49m\u001b[43m,\u001b[49m\u001b[43m \u001b[49m\u001b[43m_stacktrace\u001b[49m\u001b[38;5;241;43m=\u001b[39;49m\u001b[43msys\u001b[49m\u001b[38;5;241;43m.\u001b[39;49m\u001b[43mexc_info\u001b[49m\u001b[43m(\u001b[49m\u001b[43m)\u001b[49m\u001b[43m[\u001b[49m\u001b[38;5;241;43m2\u001b[39;49m\u001b[43m]\u001b[49m\n\u001b[0;32m    787\u001b[0m \u001b[43m\u001b[49m\u001b[43m)\u001b[49m\n\u001b[0;32m    788\u001b[0m retries\u001b[38;5;241m.\u001b[39msleep()\n",
      "File \u001b[1;32mc:\\ProgramData\\anaconda3\\lib\\site-packages\\urllib3\\util\\retry.py:592\u001b[0m, in \u001b[0;36mRetry.increment\u001b[1;34m(self, method, url, response, error, _pool, _stacktrace)\u001b[0m\n\u001b[0;32m    591\u001b[0m \u001b[38;5;28;01mif\u001b[39;00m new_retry\u001b[38;5;241m.\u001b[39mis_exhausted():\n\u001b[1;32m--> 592\u001b[0m     \u001b[38;5;28;01mraise\u001b[39;00m MaxRetryError(_pool, url, error \u001b[38;5;129;01mor\u001b[39;00m ResponseError(cause))\n\u001b[0;32m    594\u001b[0m log\u001b[38;5;241m.\u001b[39mdebug(\u001b[38;5;124m\"\u001b[39m\u001b[38;5;124mIncremented Retry for (url=\u001b[39m\u001b[38;5;124m'\u001b[39m\u001b[38;5;132;01m%s\u001b[39;00m\u001b[38;5;124m'\u001b[39m\u001b[38;5;124m): \u001b[39m\u001b[38;5;132;01m%r\u001b[39;00m\u001b[38;5;124m\"\u001b[39m, url, new_retry)\n",
      "\u001b[1;31mMaxRetryError\u001b[0m: HTTPSConnectionPool(host='bulkdata.uspto.gov', port=443): Max retries exceeded with url: /data/patent/application/redbook/fulltext/2024/ipa240926.zip (Caused by ConnectTimeoutError(<urllib3.connection.HTTPSConnection object at 0x000002392B8C8CA0>, 'Connection to bulkdata.uspto.gov timed out. (connect timeout=10)'))",
      "\nDuring handling of the above exception, another exception occurred:\n",
      "\u001b[1;31mConnectTimeout\u001b[0m                            Traceback (most recent call last)",
      "Input \u001b[1;32mIn [29]\u001b[0m, in \u001b[0;36m<cell line: 17>\u001b[1;34m()\u001b[0m\n\u001b[0;32m     17\u001b[0m \u001b[38;5;28;01mfor\u001b[39;00m year \u001b[38;5;129;01min\u001b[39;00m \u001b[38;5;28mrange\u001b[39m(start_year, end_year \u001b[38;5;241m+\u001b[39m \u001b[38;5;241m1\u001b[39m):\n\u001b[0;32m     18\u001b[0m         url \u001b[38;5;241m=\u001b[39m \u001b[38;5;124mf\u001b[39m\u001b[38;5;124m\"\u001b[39m\u001b[38;5;124mhttps://bulkdata.uspto.gov/data/patent/application/redbook/fulltext/\u001b[39m\u001b[38;5;132;01m{\u001b[39;00myear\u001b[38;5;132;01m}\u001b[39;00m\u001b[38;5;124m/\u001b[39m\u001b[38;5;124m\"\u001b[39m\n\u001b[1;32m---> 19\u001b[0m         files\u001b[38;5;241m.\u001b[39mappend(\u001b[43mdownload_files\u001b[49m\u001b[43m(\u001b[49m\u001b[43murl\u001b[49m\u001b[43m,\u001b[49m\u001b[43m \u001b[49m\u001b[43mdownload_path\u001b[49m\u001b[43m,\u001b[49m\u001b[43m \u001b[49m\u001b[43mlatest_files\u001b[49m\u001b[43m[\u001b[49m\u001b[43myear\u001b[49m\u001b[43m]\u001b[49m\u001b[43m)\u001b[49m)\n",
      "Input \u001b[1;32mIn [29]\u001b[0m, in \u001b[0;36mdownload_files\u001b[1;34m(main_url, download_path, files)\u001b[0m\n\u001b[0;32m      6\u001b[0m url \u001b[38;5;241m=\u001b[39m main_url \u001b[38;5;241m+\u001b[39m file_name\n\u001b[0;32m      9\u001b[0m zip_file_path \u001b[38;5;241m=\u001b[39m os\u001b[38;5;241m.\u001b[39mpath\u001b[38;5;241m.\u001b[39mjoin(download_path, file_name) \u001b[38;5;66;03m#.split(\".\")[-1]\u001b[39;00m\n\u001b[1;32m---> 10\u001b[0m response \u001b[38;5;241m=\u001b[39m \u001b[43mrequests\u001b[49m\u001b[38;5;241;43m.\u001b[39;49m\u001b[43mget\u001b[49m\u001b[43m(\u001b[49m\u001b[43murl\u001b[49m\u001b[43m,\u001b[49m\u001b[43m \u001b[49m\u001b[43mstream\u001b[49m\u001b[38;5;241;43m=\u001b[39;49m\u001b[38;5;28;43;01mTrue\u001b[39;49;00m\u001b[43m,\u001b[49m\u001b[43m \u001b[49m\u001b[43mtimeout\u001b[49m\u001b[38;5;241;43m=\u001b[39;49m\u001b[38;5;241;43m10\u001b[39;49m\u001b[43m)\u001b[49m\n\u001b[0;32m     11\u001b[0m \u001b[38;5;28;01mwith\u001b[39;00m \u001b[38;5;28mopen\u001b[39m(zip_file_path, \u001b[38;5;124m\"\u001b[39m\u001b[38;5;124mwb\u001b[39m\u001b[38;5;124m\"\u001b[39m) \u001b[38;5;28;01mas\u001b[39;00m f:\n\u001b[0;32m     12\u001b[0m     \u001b[38;5;28;01mfor\u001b[39;00m chunk \u001b[38;5;129;01min\u001b[39;00m response\u001b[38;5;241m.\u001b[39miter_content(chunk_size\u001b[38;5;241m=\u001b[39m\u001b[38;5;241m8192\u001b[39m):\n",
      "File \u001b[1;32mc:\\ProgramData\\anaconda3\\lib\\site-packages\\requests\\api.py:75\u001b[0m, in \u001b[0;36mget\u001b[1;34m(url, params, **kwargs)\u001b[0m\n\u001b[0;32m     64\u001b[0m \u001b[38;5;28;01mdef\u001b[39;00m \u001b[38;5;21mget\u001b[39m(url, params\u001b[38;5;241m=\u001b[39m\u001b[38;5;28;01mNone\u001b[39;00m, \u001b[38;5;241m*\u001b[39m\u001b[38;5;241m*\u001b[39mkwargs):\n\u001b[0;32m     65\u001b[0m     \u001b[38;5;124mr\u001b[39m\u001b[38;5;124;03m\"\"\"Sends a GET request.\u001b[39;00m\n\u001b[0;32m     66\u001b[0m \n\u001b[0;32m     67\u001b[0m \u001b[38;5;124;03m    :param url: URL for the new :class:`Request` object.\u001b[39;00m\n\u001b[1;32m   (...)\u001b[0m\n\u001b[0;32m     72\u001b[0m \u001b[38;5;124;03m    :rtype: requests.Response\u001b[39;00m\n\u001b[0;32m     73\u001b[0m \u001b[38;5;124;03m    \"\"\"\u001b[39;00m\n\u001b[1;32m---> 75\u001b[0m     \u001b[38;5;28;01mreturn\u001b[39;00m request(\u001b[38;5;124m'\u001b[39m\u001b[38;5;124mget\u001b[39m\u001b[38;5;124m'\u001b[39m, url, params\u001b[38;5;241m=\u001b[39mparams, \u001b[38;5;241m*\u001b[39m\u001b[38;5;241m*\u001b[39mkwargs)\n",
      "File \u001b[1;32mc:\\ProgramData\\anaconda3\\lib\\site-packages\\requests\\api.py:61\u001b[0m, in \u001b[0;36mrequest\u001b[1;34m(method, url, **kwargs)\u001b[0m\n\u001b[0;32m     57\u001b[0m \u001b[38;5;66;03m# By using the 'with' statement we are sure the session is closed, thus we\u001b[39;00m\n\u001b[0;32m     58\u001b[0m \u001b[38;5;66;03m# avoid leaving sockets open which can trigger a ResourceWarning in some\u001b[39;00m\n\u001b[0;32m     59\u001b[0m \u001b[38;5;66;03m# cases, and look like a memory leak in others.\u001b[39;00m\n\u001b[0;32m     60\u001b[0m \u001b[38;5;28;01mwith\u001b[39;00m sessions\u001b[38;5;241m.\u001b[39mSession() \u001b[38;5;28;01mas\u001b[39;00m session:\n\u001b[1;32m---> 61\u001b[0m     \u001b[38;5;28;01mreturn\u001b[39;00m session\u001b[38;5;241m.\u001b[39mrequest(method\u001b[38;5;241m=\u001b[39mmethod, url\u001b[38;5;241m=\u001b[39murl, \u001b[38;5;241m*\u001b[39m\u001b[38;5;241m*\u001b[39mkwargs)\n",
      "File \u001b[1;32mc:\\ProgramData\\anaconda3\\lib\\site-packages\\requests\\sessions.py:529\u001b[0m, in \u001b[0;36mSession.request\u001b[1;34m(self, method, url, params, data, headers, cookies, files, auth, timeout, allow_redirects, proxies, hooks, stream, verify, cert, json)\u001b[0m\n\u001b[0;32m    524\u001b[0m send_kwargs \u001b[38;5;241m=\u001b[39m {\n\u001b[0;32m    525\u001b[0m     \u001b[38;5;124m'\u001b[39m\u001b[38;5;124mtimeout\u001b[39m\u001b[38;5;124m'\u001b[39m: timeout,\n\u001b[0;32m    526\u001b[0m     \u001b[38;5;124m'\u001b[39m\u001b[38;5;124mallow_redirects\u001b[39m\u001b[38;5;124m'\u001b[39m: allow_redirects,\n\u001b[0;32m    527\u001b[0m }\n\u001b[0;32m    528\u001b[0m send_kwargs\u001b[38;5;241m.\u001b[39mupdate(settings)\n\u001b[1;32m--> 529\u001b[0m resp \u001b[38;5;241m=\u001b[39m \u001b[38;5;28mself\u001b[39m\u001b[38;5;241m.\u001b[39msend(prep, \u001b[38;5;241m*\u001b[39m\u001b[38;5;241m*\u001b[39msend_kwargs)\n\u001b[0;32m    531\u001b[0m \u001b[38;5;28;01mreturn\u001b[39;00m resp\n",
      "File \u001b[1;32mc:\\ProgramData\\anaconda3\\lib\\site-packages\\requests\\sessions.py:645\u001b[0m, in \u001b[0;36mSession.send\u001b[1;34m(self, request, **kwargs)\u001b[0m\n\u001b[0;32m    642\u001b[0m start \u001b[38;5;241m=\u001b[39m preferred_clock()\n\u001b[0;32m    644\u001b[0m \u001b[38;5;66;03m# Send the request\u001b[39;00m\n\u001b[1;32m--> 645\u001b[0m r \u001b[38;5;241m=\u001b[39m adapter\u001b[38;5;241m.\u001b[39msend(request, \u001b[38;5;241m*\u001b[39m\u001b[38;5;241m*\u001b[39mkwargs)\n\u001b[0;32m    647\u001b[0m \u001b[38;5;66;03m# Total elapsed time of the request (approximately)\u001b[39;00m\n\u001b[0;32m    648\u001b[0m elapsed \u001b[38;5;241m=\u001b[39m preferred_clock() \u001b[38;5;241m-\u001b[39m start\n",
      "File \u001b[1;32mc:\\ProgramData\\anaconda3\\lib\\site-packages\\requests\\adapters.py:507\u001b[0m, in \u001b[0;36mHTTPAdapter.send\u001b[1;34m(self, request, stream, timeout, verify, cert, proxies)\u001b[0m\n\u001b[0;32m    504\u001b[0m \u001b[38;5;28;01mif\u001b[39;00m \u001b[38;5;28misinstance\u001b[39m(e\u001b[38;5;241m.\u001b[39mreason, ConnectTimeoutError):\n\u001b[0;32m    505\u001b[0m     \u001b[38;5;66;03m# TODO: Remove this in 3.0.0: see #2811\u001b[39;00m\n\u001b[0;32m    506\u001b[0m     \u001b[38;5;28;01mif\u001b[39;00m \u001b[38;5;129;01mnot\u001b[39;00m \u001b[38;5;28misinstance\u001b[39m(e\u001b[38;5;241m.\u001b[39mreason, NewConnectionError):\n\u001b[1;32m--> 507\u001b[0m         \u001b[38;5;28;01mraise\u001b[39;00m ConnectTimeout(e, request\u001b[38;5;241m=\u001b[39mrequest)\n\u001b[0;32m    509\u001b[0m \u001b[38;5;28;01mif\u001b[39;00m \u001b[38;5;28misinstance\u001b[39m(e\u001b[38;5;241m.\u001b[39mreason, ResponseError):\n\u001b[0;32m    510\u001b[0m     \u001b[38;5;28;01mraise\u001b[39;00m RetryError(e, request\u001b[38;5;241m=\u001b[39mrequest)\n",
      "\u001b[1;31mConnectTimeout\u001b[0m: HTTPSConnectionPool(host='bulkdata.uspto.gov', port=443): Max retries exceeded with url: /data/patent/application/redbook/fulltext/2024/ipa240926.zip (Caused by ConnectTimeoutError(<urllib3.connection.HTTPSConnection object at 0x000002392B8C8CA0>, 'Connection to bulkdata.uspto.gov timed out. (connect timeout=10)'))"
     ]
    }
   ],
   "source": [
    "import os\n",
    "def download_files(main_url, download_path,files):\n",
    "    if not os.path.exists(download_path):\n",
    "        os.makedirs(download_path)\n",
    "    for index,file_name in enumerate(files):\n",
    "        url = main_url + file_name\n",
    "\n",
    "\n",
    "        zip_file_path = os.path.join(download_path, file_name) #.split(\".\")[-1]\n",
    "        response = requests.get(url, stream=True, timeout=10)\n",
    "        with open(zip_file_path, \"wb\") as f:\n",
    "            for chunk in response.iter_content(chunk_size=8192):\n",
    "                f.write(chunk)\n",
    "        print(f\"Downloaded {file_name} ------- {index + 1} / {len(files)}\")\n",
    "download_path = \"E:\\\\patents_data_23_24\"\n",
    "files = []\n",
    "for year in range(start_year, end_year + 1):\n",
    "        url = f\"https://bulkdata.uspto.gov/data/patent/application/redbook/fulltext/{year}/\"\n",
    "        files.append(download_files(url, download_path, latest_files[year]))"
   ]
  },
  {
   "cell_type": "code",
   "execution_count": 10,
   "metadata": {},
   "outputs": [
    {
     "name": "stdout",
     "output_type": "stream",
     "text": [
      "Download path set to: patents_data\n",
      "https://bulkdata.uspto.gov/data/patent/application/redbook/fulltext/2023/\n"
     ]
    },
    {
     "ename": "JSONDecodeError",
     "evalue": "Expecting value: line 3 column 1 (char 6)",
     "output_type": "error",
     "traceback": [
      "\u001b[1;31m---------------------------------------------------------------------------\u001b[0m",
      "\u001b[1;31mJSONDecodeError\u001b[0m                           Traceback (most recent call last)",
      "File \u001b[1;32m~\\AppData\\Roaming\\Python\\Python312\\site-packages\\requests\\models.py:974\u001b[0m, in \u001b[0;36mResponse.json\u001b[1;34m(self, **kwargs)\u001b[0m\n\u001b[0;32m    973\u001b[0m \u001b[38;5;28;01mtry\u001b[39;00m:\n\u001b[1;32m--> 974\u001b[0m     \u001b[38;5;28;01mreturn\u001b[39;00m \u001b[43mcomplexjson\u001b[49m\u001b[38;5;241;43m.\u001b[39;49m\u001b[43mloads\u001b[49m\u001b[43m(\u001b[49m\u001b[38;5;28;43mself\u001b[39;49m\u001b[38;5;241;43m.\u001b[39;49m\u001b[43mtext\u001b[49m\u001b[43m,\u001b[49m\u001b[43m \u001b[49m\u001b[38;5;241;43m*\u001b[39;49m\u001b[38;5;241;43m*\u001b[39;49m\u001b[43mkwargs\u001b[49m\u001b[43m)\u001b[49m\n\u001b[0;32m    975\u001b[0m \u001b[38;5;28;01mexcept\u001b[39;00m JSONDecodeError \u001b[38;5;28;01mas\u001b[39;00m e:\n\u001b[0;32m    976\u001b[0m     \u001b[38;5;66;03m# Catch JSON-related errors and raise as requests.JSONDecodeError\u001b[39;00m\n\u001b[0;32m    977\u001b[0m     \u001b[38;5;66;03m# This aliases json.JSONDecodeError and simplejson.JSONDecodeError\u001b[39;00m\n",
      "File \u001b[1;32mc:\\Users\\amoha\\anaconda3\\envs\\cuda\\Lib\\json\\__init__.py:346\u001b[0m, in \u001b[0;36mloads\u001b[1;34m(s, cls, object_hook, parse_float, parse_int, parse_constant, object_pairs_hook, **kw)\u001b[0m\n\u001b[0;32m    343\u001b[0m \u001b[38;5;28;01mif\u001b[39;00m (\u001b[38;5;28mcls\u001b[39m \u001b[38;5;129;01mis\u001b[39;00m \u001b[38;5;28;01mNone\u001b[39;00m \u001b[38;5;129;01mand\u001b[39;00m object_hook \u001b[38;5;129;01mis\u001b[39;00m \u001b[38;5;28;01mNone\u001b[39;00m \u001b[38;5;129;01mand\u001b[39;00m\n\u001b[0;32m    344\u001b[0m         parse_int \u001b[38;5;129;01mis\u001b[39;00m \u001b[38;5;28;01mNone\u001b[39;00m \u001b[38;5;129;01mand\u001b[39;00m parse_float \u001b[38;5;129;01mis\u001b[39;00m \u001b[38;5;28;01mNone\u001b[39;00m \u001b[38;5;129;01mand\u001b[39;00m\n\u001b[0;32m    345\u001b[0m         parse_constant \u001b[38;5;129;01mis\u001b[39;00m \u001b[38;5;28;01mNone\u001b[39;00m \u001b[38;5;129;01mand\u001b[39;00m object_pairs_hook \u001b[38;5;129;01mis\u001b[39;00m \u001b[38;5;28;01mNone\u001b[39;00m \u001b[38;5;129;01mand\u001b[39;00m \u001b[38;5;129;01mnot\u001b[39;00m kw):\n\u001b[1;32m--> 346\u001b[0m     \u001b[38;5;28;01mreturn\u001b[39;00m \u001b[43m_default_decoder\u001b[49m\u001b[38;5;241;43m.\u001b[39;49m\u001b[43mdecode\u001b[49m\u001b[43m(\u001b[49m\u001b[43ms\u001b[49m\u001b[43m)\u001b[49m\n\u001b[0;32m    347\u001b[0m \u001b[38;5;28;01mif\u001b[39;00m \u001b[38;5;28mcls\u001b[39m \u001b[38;5;129;01mis\u001b[39;00m \u001b[38;5;28;01mNone\u001b[39;00m:\n",
      "File \u001b[1;32mc:\\Users\\amoha\\anaconda3\\envs\\cuda\\Lib\\json\\decoder.py:337\u001b[0m, in \u001b[0;36mJSONDecoder.decode\u001b[1;34m(self, s, _w)\u001b[0m\n\u001b[0;32m    333\u001b[0m \u001b[38;5;250m\u001b[39m\u001b[38;5;124;03m\"\"\"Return the Python representation of ``s`` (a ``str`` instance\u001b[39;00m\n\u001b[0;32m    334\u001b[0m \u001b[38;5;124;03mcontaining a JSON document).\u001b[39;00m\n\u001b[0;32m    335\u001b[0m \n\u001b[0;32m    336\u001b[0m \u001b[38;5;124;03m\"\"\"\u001b[39;00m\n\u001b[1;32m--> 337\u001b[0m obj, end \u001b[38;5;241m=\u001b[39m \u001b[38;5;28;43mself\u001b[39;49m\u001b[38;5;241;43m.\u001b[39;49m\u001b[43mraw_decode\u001b[49m\u001b[43m(\u001b[49m\u001b[43ms\u001b[49m\u001b[43m,\u001b[49m\u001b[43m \u001b[49m\u001b[43midx\u001b[49m\u001b[38;5;241;43m=\u001b[39;49m\u001b[43m_w\u001b[49m\u001b[43m(\u001b[49m\u001b[43ms\u001b[49m\u001b[43m,\u001b[49m\u001b[43m \u001b[49m\u001b[38;5;241;43m0\u001b[39;49m\u001b[43m)\u001b[49m\u001b[38;5;241;43m.\u001b[39;49m\u001b[43mend\u001b[49m\u001b[43m(\u001b[49m\u001b[43m)\u001b[49m\u001b[43m)\u001b[49m\n\u001b[0;32m    338\u001b[0m end \u001b[38;5;241m=\u001b[39m _w(s, end)\u001b[38;5;241m.\u001b[39mend()\n",
      "File \u001b[1;32mc:\\Users\\amoha\\anaconda3\\envs\\cuda\\Lib\\json\\decoder.py:355\u001b[0m, in \u001b[0;36mJSONDecoder.raw_decode\u001b[1;34m(self, s, idx)\u001b[0m\n\u001b[0;32m    354\u001b[0m \u001b[38;5;28;01mexcept\u001b[39;00m \u001b[38;5;167;01mStopIteration\u001b[39;00m \u001b[38;5;28;01mas\u001b[39;00m err:\n\u001b[1;32m--> 355\u001b[0m     \u001b[38;5;28;01mraise\u001b[39;00m JSONDecodeError(\u001b[38;5;124m\"\u001b[39m\u001b[38;5;124mExpecting value\u001b[39m\u001b[38;5;124m\"\u001b[39m, s, err\u001b[38;5;241m.\u001b[39mvalue) \u001b[38;5;28;01mfrom\u001b[39;00m \u001b[38;5;28;01mNone\u001b[39;00m\n\u001b[0;32m    356\u001b[0m \u001b[38;5;28;01mreturn\u001b[39;00m obj, end\n",
      "\u001b[1;31mJSONDecodeError\u001b[0m: Expecting value: line 3 column 1 (char 6)",
      "\nDuring handling of the above exception, another exception occurred:\n",
      "\u001b[1;31mJSONDecodeError\u001b[0m                           Traceback (most recent call last)",
      "Cell \u001b[1;32mIn[10], line 34\u001b[0m\n\u001b[0;32m     31\u001b[0m     os\u001b[38;5;241m.\u001b[39mmakedirs(download_path, exist_ok\u001b[38;5;241m=\u001b[39m\u001b[38;5;28;01mTrue\u001b[39;00m)\n\u001b[0;32m     32\u001b[0m     \u001b[38;5;28mprint\u001b[39m(\u001b[38;5;124mf\u001b[39m\u001b[38;5;124m\"\u001b[39m\u001b[38;5;124mFallback: Download path set to: \u001b[39m\u001b[38;5;132;01m{\u001b[39;00mdownload_path\u001b[38;5;132;01m}\u001b[39;00m\u001b[38;5;124m\"\u001b[39m)\n\u001b[1;32m---> 34\u001b[0m files \u001b[38;5;241m=\u001b[39m \u001b[43mcollect_urls\u001b[49m\u001b[43m(\u001b[49m\u001b[43myear\u001b[49m\u001b[43m)\u001b[49m\n\u001b[0;32m     35\u001b[0m \u001b[38;5;28;01mif\u001b[39;00m files:\n\u001b[0;32m     36\u001b[0m     total_size \u001b[38;5;241m=\u001b[39m \u001b[38;5;28msum\u001b[39m(file[\u001b[38;5;124m\"\u001b[39m\u001b[38;5;124mfileSize\u001b[39m\u001b[38;5;124m\"\u001b[39m] \u001b[38;5;241m/\u001b[39m \u001b[38;5;241m1024\u001b[39m \u001b[38;5;241m/\u001b[39m \u001b[38;5;241m1024\u001b[39m \u001b[38;5;28;01mfor\u001b[39;00m file \u001b[38;5;129;01min\u001b[39;00m files)\n",
      "Cell \u001b[1;32mIn[10], line 16\u001b[0m, in \u001b[0;36mcollect_urls\u001b[1;34m(year)\u001b[0m\n\u001b[0;32m     14\u001b[0m     \u001b[38;5;28;01mreturn\u001b[39;00m []\n\u001b[0;32m     15\u001b[0m \u001b[38;5;66;03m#print(f\"Urls collected for the period from {start_date} to {end_date} successfully\")\u001b[39;00m\n\u001b[1;32m---> 16\u001b[0m \u001b[38;5;28;01mreturn\u001b[39;00m \u001b[43mresponse\u001b[49m\u001b[38;5;241;43m.\u001b[39;49m\u001b[43mjson\u001b[49m\u001b[43m(\u001b[49m\u001b[43m)\u001b[49m[\u001b[38;5;124m\"\u001b[39m\u001b[38;5;124mproductFiles\u001b[39m\u001b[38;5;124m\"\u001b[39m]\n",
      "File \u001b[1;32m~\\AppData\\Roaming\\Python\\Python312\\site-packages\\requests\\models.py:978\u001b[0m, in \u001b[0;36mResponse.json\u001b[1;34m(self, **kwargs)\u001b[0m\n\u001b[0;32m    974\u001b[0m     \u001b[38;5;28;01mreturn\u001b[39;00m complexjson\u001b[38;5;241m.\u001b[39mloads(\u001b[38;5;28mself\u001b[39m\u001b[38;5;241m.\u001b[39mtext, \u001b[38;5;241m*\u001b[39m\u001b[38;5;241m*\u001b[39mkwargs)\n\u001b[0;32m    975\u001b[0m \u001b[38;5;28;01mexcept\u001b[39;00m JSONDecodeError \u001b[38;5;28;01mas\u001b[39;00m e:\n\u001b[0;32m    976\u001b[0m     \u001b[38;5;66;03m# Catch JSON-related errors and raise as requests.JSONDecodeError\u001b[39;00m\n\u001b[0;32m    977\u001b[0m     \u001b[38;5;66;03m# This aliases json.JSONDecodeError and simplejson.JSONDecodeError\u001b[39;00m\n\u001b[1;32m--> 978\u001b[0m     \u001b[38;5;28;01mraise\u001b[39;00m RequestsJSONDecodeError(e\u001b[38;5;241m.\u001b[39mmsg, e\u001b[38;5;241m.\u001b[39mdoc, e\u001b[38;5;241m.\u001b[39mpos)\n",
      "\u001b[1;31mJSONDecodeError\u001b[0m: Expecting value: line 3 column 1 (char 6)"
     ]
    }
   ],
   "source": [
    "import requests\n",
    "import os\n",
    "\n",
    "def collect_urls(year):\n",
    "    url = f\"https://bulkdata.uspto.gov/data/patent/application/redbook/fulltext/{year}/\"\n",
    "    # params = {\n",
    "    #     \"data\": f'{{\"name\":\"APPXML\",\"fromDate\":\"{start_date}\",\"toDate\":\"{end_date}\"}}'\n",
    "    # }\n",
    "    print(url)\n",
    "    response = requests.get(url, timeout=10)\n",
    "    if response.status_code != 200:\n",
    "        print(f\"Error: {response.status_code}\")\n",
    "        return []\n",
    "    #print(f\"Urls collected for the period from {start_date} to {end_date} successfully\")\n",
    "    return response.json()[\"productFiles\"]\n",
    "\n",
    "# start_date = input(\"Enter start date YYYY-MM: \")\n",
    "# end_date = input(\"Enter end date YYYY-MM: \")\n",
    "year = input(\"Enter year: \")\n",
    "download_path = \"patents_data\"\n",
    "unzip_path = \"unzipped_patents_data\"\n",
    "\n",
    "try:\n",
    "    os.makedirs(download_path, exist_ok=True)\n",
    "    print(f\"Download path set to: {download_path}\")\n",
    "except PermissionError:\n",
    "    print(\"Error: No permission to create directory on D drive\")\n",
    "    # Fallback to current directory\n",
    "    download_path = \"patents_data\"\n",
    "    os.makedirs(download_path, exist_ok=True)\n",
    "    print(f\"Fallback: Download path set to: {download_path}\")\n",
    "\n",
    "files = collect_urls(year)\n",
    "if files:\n",
    "    total_size = sum(file[\"fileSize\"] / 1024 / 1024 for file in files)\n",
    "    print(\n",
    "        f\"\\nTotal file size: {round(total_size / 1024, 2)} GB for  {year}\\n\"\n",
    "    )\n",
    "    download_files(files, download_path)\n",
    "    unzip_files(download_path, unzip_path)\n",
    "    "
   ]
  },
  {
   "cell_type": "code",
   "execution_count": 30,
   "metadata": {},
   "outputs": [
    {
     "name": "stderr",
     "output_type": "stream",
     "text": [
      "Unzipping files:   0%|          | 0/90 [00:00<?, ?it/s]"
     ]
    },
    {
     "name": "stderr",
     "output_type": "stream",
     "text": [
      "Unzipping files:   1%|          | 1/90 [00:04<06:05,  4.11s/it]"
     ]
    },
    {
     "name": "stdout",
     "output_type": "stream",
     "text": [
      "Unzipped ipa230105.zip to E:\\unzipped_patents_23_24\n"
     ]
    },
    {
     "name": "stderr",
     "output_type": "stream",
     "text": [
      "Unzipping files:   2%|▏         | 2/90 [00:06<04:19,  2.95s/it]"
     ]
    },
    {
     "name": "stdout",
     "output_type": "stream",
     "text": [
      "Unzipped ipa230112_r1.zip to E:\\unzipped_patents_23_24\n"
     ]
    },
    {
     "name": "stderr",
     "output_type": "stream",
     "text": [
      "Unzipping files:   3%|▎         | 3/90 [00:10<05:19,  3.67s/it]"
     ]
    },
    {
     "name": "stdout",
     "output_type": "stream",
     "text": [
      "Unzipped ipa230119_r1.zip to E:\\unzipped_patents_23_24\n"
     ]
    },
    {
     "name": "stderr",
     "output_type": "stream",
     "text": [
      "Unzipping files:   4%|▍         | 4/90 [00:15<05:41,  3.97s/it]"
     ]
    },
    {
     "name": "stdout",
     "output_type": "stream",
     "text": [
      "Unzipped ipa230126_r2.zip to E:\\unzipped_patents_23_24\n"
     ]
    },
    {
     "name": "stderr",
     "output_type": "stream",
     "text": [
      "Unzipping files:   6%|▌         | 5/90 [00:18<05:29,  3.88s/it]"
     ]
    },
    {
     "name": "stdout",
     "output_type": "stream",
     "text": [
      "Unzipped ipa230202_r2.zip to E:\\unzipped_patents_23_24\n"
     ]
    },
    {
     "name": "stderr",
     "output_type": "stream",
     "text": [
      "Unzipping files:   7%|▋         | 6/90 [00:23<05:44,  4.10s/it]"
     ]
    },
    {
     "name": "stdout",
     "output_type": "stream",
     "text": [
      "Unzipped ipa230209_r1.zip to E:\\unzipped_patents_23_24\n"
     ]
    },
    {
     "name": "stderr",
     "output_type": "stream",
     "text": [
      "Unzipping files:   8%|▊         | 7/90 [00:27<05:38,  4.08s/it]"
     ]
    },
    {
     "name": "stdout",
     "output_type": "stream",
     "text": [
      "Unzipped ipa230216_r2.zip to E:\\unzipped_patents_23_24\n"
     ]
    },
    {
     "name": "stderr",
     "output_type": "stream",
     "text": [
      "Unzipping files:   9%|▉         | 8/90 [00:31<05:26,  3.98s/it]"
     ]
    },
    {
     "name": "stdout",
     "output_type": "stream",
     "text": [
      "Unzipped ipa230223.zip to E:\\unzipped_patents_23_24\n"
     ]
    },
    {
     "name": "stderr",
     "output_type": "stream",
     "text": [
      "Unzipping files:  10%|█         | 9/90 [00:36<05:44,  4.25s/it]"
     ]
    },
    {
     "name": "stdout",
     "output_type": "stream",
     "text": [
      "Unzipped ipa230302.zip to E:\\unzipped_patents_23_24\n"
     ]
    },
    {
     "name": "stderr",
     "output_type": "stream",
     "text": [
      "Unzipping files:  11%|█         | 10/90 [00:40<05:32,  4.16s/it]"
     ]
    },
    {
     "name": "stdout",
     "output_type": "stream",
     "text": [
      "Unzipped ipa230309.zip to E:\\unzipped_patents_23_24\n"
     ]
    },
    {
     "name": "stderr",
     "output_type": "stream",
     "text": [
      "Unzipping files:  12%|█▏        | 11/90 [00:44<05:35,  4.25s/it]"
     ]
    },
    {
     "name": "stdout",
     "output_type": "stream",
     "text": [
      "Unzipped ipa230316.zip to E:\\unzipped_patents_23_24\n"
     ]
    },
    {
     "name": "stderr",
     "output_type": "stream",
     "text": [
      "Unzipping files:  13%|█▎        | 12/90 [00:49<05:38,  4.34s/it]"
     ]
    },
    {
     "name": "stdout",
     "output_type": "stream",
     "text": [
      "Unzipped ipa230323.zip to E:\\unzipped_patents_23_24\n"
     ]
    },
    {
     "name": "stderr",
     "output_type": "stream",
     "text": [
      "Unzipping files:  14%|█▍        | 13/90 [00:53<05:46,  4.49s/it]"
     ]
    },
    {
     "name": "stdout",
     "output_type": "stream",
     "text": [
      "Unzipped ipa230330.zip to E:\\unzipped_patents_23_24\n"
     ]
    },
    {
     "name": "stderr",
     "output_type": "stream",
     "text": [
      "Unzipping files:  16%|█▌        | 14/90 [00:57<05:21,  4.23s/it]"
     ]
    },
    {
     "name": "stdout",
     "output_type": "stream",
     "text": [
      "Unzipped ipa230406.zip to E:\\unzipped_patents_23_24\n"
     ]
    },
    {
     "name": "stderr",
     "output_type": "stream",
     "text": [
      "Unzipping files:  17%|█▋        | 15/90 [01:01<05:18,  4.25s/it]"
     ]
    },
    {
     "name": "stdout",
     "output_type": "stream",
     "text": [
      "Unzipped ipa230413.zip to E:\\unzipped_patents_23_24\n"
     ]
    },
    {
     "name": "stderr",
     "output_type": "stream",
     "text": [
      "Unzipping files:  18%|█▊        | 16/90 [01:06<05:19,  4.32s/it]"
     ]
    },
    {
     "name": "stdout",
     "output_type": "stream",
     "text": [
      "Unzipped ipa230420.zip to E:\\unzipped_patents_23_24\n"
     ]
    },
    {
     "name": "stderr",
     "output_type": "stream",
     "text": [
      "Unzipping files:  19%|█▉        | 17/90 [01:10<05:07,  4.21s/it]"
     ]
    },
    {
     "name": "stdout",
     "output_type": "stream",
     "text": [
      "Unzipped ipa230427.zip to E:\\unzipped_patents_23_24\n"
     ]
    },
    {
     "name": "stderr",
     "output_type": "stream",
     "text": [
      "Unzipping files:  20%|██        | 18/90 [01:14<05:07,  4.27s/it]"
     ]
    },
    {
     "name": "stdout",
     "output_type": "stream",
     "text": [
      "Unzipped ipa230504_r1.zip to E:\\unzipped_patents_23_24\n"
     ]
    },
    {
     "name": "stderr",
     "output_type": "stream",
     "text": [
      "Unzipping files:  21%|██        | 19/90 [01:18<05:01,  4.24s/it]"
     ]
    },
    {
     "name": "stdout",
     "output_type": "stream",
     "text": [
      "Unzipped ipa230511_r1.zip to E:\\unzipped_patents_23_24\n"
     ]
    },
    {
     "name": "stderr",
     "output_type": "stream",
     "text": [
      "Unzipping files:  22%|██▏       | 20/90 [01:23<05:03,  4.33s/it]"
     ]
    },
    {
     "name": "stdout",
     "output_type": "stream",
     "text": [
      "Unzipped ipa230518.zip to E:\\unzipped_patents_23_24\n"
     ]
    },
    {
     "name": "stderr",
     "output_type": "stream",
     "text": [
      "Unzipping files:  23%|██▎       | 21/90 [01:27<04:58,  4.32s/it]"
     ]
    },
    {
     "name": "stdout",
     "output_type": "stream",
     "text": [
      "Unzipped ipa230525.zip to E:\\unzipped_patents_23_24\n"
     ]
    },
    {
     "name": "stderr",
     "output_type": "stream",
     "text": [
      "Unzipping files:  24%|██▍       | 22/90 [01:31<04:36,  4.06s/it]"
     ]
    },
    {
     "name": "stdout",
     "output_type": "stream",
     "text": [
      "Unzipped ipa230601.zip to E:\\unzipped_patents_23_24\n"
     ]
    },
    {
     "name": "stderr",
     "output_type": "stream",
     "text": [
      "Unzipping files:  26%|██▌       | 23/90 [01:35<04:37,  4.14s/it]"
     ]
    },
    {
     "name": "stdout",
     "output_type": "stream",
     "text": [
      "Unzipped ipa230608.zip to E:\\unzipped_patents_23_24\n"
     ]
    },
    {
     "name": "stderr",
     "output_type": "stream",
     "text": [
      "Unzipping files:  27%|██▋       | 24/90 [01:40<04:44,  4.30s/it]"
     ]
    },
    {
     "name": "stdout",
     "output_type": "stream",
     "text": [
      "Unzipped ipa230615.zip to E:\\unzipped_patents_23_24\n"
     ]
    },
    {
     "name": "stderr",
     "output_type": "stream",
     "text": [
      "Unzipping files:  28%|██▊       | 25/90 [01:45<05:03,  4.68s/it]"
     ]
    },
    {
     "name": "stdout",
     "output_type": "stream",
     "text": [
      "Unzipped ipa230622.zip to E:\\unzipped_patents_23_24\n"
     ]
    },
    {
     "name": "stderr",
     "output_type": "stream",
     "text": [
      "Unzipping files:  29%|██▉       | 26/90 [01:50<05:07,  4.81s/it]"
     ]
    },
    {
     "name": "stdout",
     "output_type": "stream",
     "text": [
      "Unzipped ipa230629.zip to E:\\unzipped_patents_23_24\n"
     ]
    },
    {
     "name": "stderr",
     "output_type": "stream",
     "text": [
      "Unzipping files:  30%|███       | 27/90 [01:54<04:49,  4.59s/it]"
     ]
    },
    {
     "name": "stdout",
     "output_type": "stream",
     "text": [
      "Unzipped ipa230706.zip to E:\\unzipped_patents_23_24\n"
     ]
    },
    {
     "name": "stderr",
     "output_type": "stream",
     "text": [
      "Unzipping files:  31%|███       | 28/90 [01:58<04:29,  4.34s/it]"
     ]
    },
    {
     "name": "stdout",
     "output_type": "stream",
     "text": [
      "Unzipped ipa230713.zip to E:\\unzipped_patents_23_24\n"
     ]
    },
    {
     "name": "stderr",
     "output_type": "stream",
     "text": [
      "Unzipping files:  32%|███▏      | 29/90 [02:02<04:13,  4.16s/it]"
     ]
    },
    {
     "name": "stdout",
     "output_type": "stream",
     "text": [
      "Unzipped ipa230720.zip to E:\\unzipped_patents_23_24\n"
     ]
    },
    {
     "name": "stderr",
     "output_type": "stream",
     "text": [
      "Unzipping files:  33%|███▎      | 30/90 [02:06<04:04,  4.08s/it]"
     ]
    },
    {
     "name": "stdout",
     "output_type": "stream",
     "text": [
      "Unzipped ipa230727_r2.zip to E:\\unzipped_patents_23_24\n"
     ]
    },
    {
     "name": "stderr",
     "output_type": "stream",
     "text": [
      "Unzipping files:  34%|███▍      | 31/90 [02:10<04:02,  4.11s/it]"
     ]
    },
    {
     "name": "stdout",
     "output_type": "stream",
     "text": [
      "Unzipped ipa230803_r2.zip to E:\\unzipped_patents_23_24\n"
     ]
    },
    {
     "name": "stderr",
     "output_type": "stream",
     "text": [
      "Unzipping files:  36%|███▌      | 32/90 [02:14<03:52,  4.01s/it]"
     ]
    },
    {
     "name": "stdout",
     "output_type": "stream",
     "text": [
      "Unzipped ipa230810.zip to E:\\unzipped_patents_23_24\n"
     ]
    },
    {
     "name": "stderr",
     "output_type": "stream",
     "text": [
      "Unzipping files:  37%|███▋      | 33/90 [02:18<03:54,  4.11s/it]"
     ]
    },
    {
     "name": "stdout",
     "output_type": "stream",
     "text": [
      "Unzipped ipa230817.zip to E:\\unzipped_patents_23_24\n"
     ]
    },
    {
     "name": "stderr",
     "output_type": "stream",
     "text": [
      "Unzipping files:  38%|███▊      | 34/90 [02:22<03:47,  4.07s/it]"
     ]
    },
    {
     "name": "stdout",
     "output_type": "stream",
     "text": [
      "Unzipped ipa230824.zip to E:\\unzipped_patents_23_24\n"
     ]
    },
    {
     "name": "stderr",
     "output_type": "stream",
     "text": [
      "Unzipping files:  39%|███▉      | 35/90 [02:26<03:47,  4.14s/it]"
     ]
    },
    {
     "name": "stdout",
     "output_type": "stream",
     "text": [
      "Unzipped ipa230831.zip to E:\\unzipped_patents_23_24\n"
     ]
    },
    {
     "name": "stderr",
     "output_type": "stream",
     "text": [
      "Unzipping files:  40%|████      | 36/90 [02:31<03:55,  4.36s/it]"
     ]
    },
    {
     "name": "stdout",
     "output_type": "stream",
     "text": [
      "Unzipped ipa230907.zip to E:\\unzipped_patents_23_24\n"
     ]
    },
    {
     "name": "stderr",
     "output_type": "stream",
     "text": [
      "Unzipping files:  41%|████      | 37/90 [02:36<03:56,  4.47s/it]"
     ]
    },
    {
     "name": "stdout",
     "output_type": "stream",
     "text": [
      "Unzipped ipa230914.zip to E:\\unzipped_patents_23_24\n"
     ]
    },
    {
     "name": "stderr",
     "output_type": "stream",
     "text": [
      "Unzipping files:  42%|████▏     | 38/90 [02:41<04:07,  4.76s/it]"
     ]
    },
    {
     "name": "stdout",
     "output_type": "stream",
     "text": [
      "Unzipped ipa230921_r1.zip to E:\\unzipped_patents_23_24\n"
     ]
    },
    {
     "name": "stderr",
     "output_type": "stream",
     "text": [
      "Unzipping files:  43%|████▎     | 39/90 [02:46<04:03,  4.78s/it]"
     ]
    },
    {
     "name": "stdout",
     "output_type": "stream",
     "text": [
      "Unzipped ipa230928.zip to E:\\unzipped_patents_23_24\n"
     ]
    },
    {
     "name": "stderr",
     "output_type": "stream",
     "text": [
      "Unzipping files:  44%|████▍     | 40/90 [02:52<04:20,  5.20s/it]"
     ]
    },
    {
     "name": "stdout",
     "output_type": "stream",
     "text": [
      "Unzipped ipa231005_r2.zip to E:\\unzipped_patents_23_24\n"
     ]
    },
    {
     "name": "stderr",
     "output_type": "stream",
     "text": [
      "Unzipping files:  46%|████▌     | 41/90 [03:01<05:10,  6.34s/it]"
     ]
    },
    {
     "name": "stdout",
     "output_type": "stream",
     "text": [
      "Unzipped ipa231012_r2.zip to E:\\unzipped_patents_23_24\n"
     ]
    },
    {
     "name": "stderr",
     "output_type": "stream",
     "text": [
      "Unzipping files:  47%|████▋     | 42/90 [03:09<05:22,  6.73s/it]"
     ]
    },
    {
     "name": "stdout",
     "output_type": "stream",
     "text": [
      "Unzipped ipa231019.zip to E:\\unzipped_patents_23_24\n"
     ]
    },
    {
     "name": "stderr",
     "output_type": "stream",
     "text": [
      "Unzipping files:  48%|████▊     | 43/90 [03:17<05:32,  7.07s/it]"
     ]
    },
    {
     "name": "stdout",
     "output_type": "stream",
     "text": [
      "Unzipped ipa231026.zip to E:\\unzipped_patents_23_24\n"
     ]
    },
    {
     "name": "stderr",
     "output_type": "stream",
     "text": [
      "Unzipping files:  49%|████▉     | 44/90 [03:26<05:55,  7.73s/it]"
     ]
    },
    {
     "name": "stdout",
     "output_type": "stream",
     "text": [
      "Unzipped ipa231102.zip to E:\\unzipped_patents_23_24\n"
     ]
    },
    {
     "name": "stderr",
     "output_type": "stream",
     "text": [
      "Unzipping files:  50%|█████     | 45/90 [03:36<06:09,  8.21s/it]"
     ]
    },
    {
     "name": "stdout",
     "output_type": "stream",
     "text": [
      "Unzipped ipa231109.zip to E:\\unzipped_patents_23_24\n"
     ]
    },
    {
     "name": "stderr",
     "output_type": "stream",
     "text": [
      "Unzipping files:  51%|█████     | 46/90 [03:45<06:11,  8.45s/it]"
     ]
    },
    {
     "name": "stdout",
     "output_type": "stream",
     "text": [
      "Unzipped ipa231116.zip to E:\\unzipped_patents_23_24\n"
     ]
    },
    {
     "name": "stderr",
     "output_type": "stream",
     "text": [
      "Unzipping files:  52%|█████▏    | 47/90 [03:51<05:37,  7.85s/it]"
     ]
    },
    {
     "name": "stdout",
     "output_type": "stream",
     "text": [
      "Unzipped ipa231123.zip to E:\\unzipped_patents_23_24\n"
     ]
    },
    {
     "name": "stderr",
     "output_type": "stream",
     "text": [
      "Unzipping files:  53%|█████▎    | 48/90 [04:00<05:46,  8.25s/it]"
     ]
    },
    {
     "name": "stdout",
     "output_type": "stream",
     "text": [
      "Unzipped ipa231130_r1.zip to E:\\unzipped_patents_23_24\n"
     ]
    },
    {
     "name": "stderr",
     "output_type": "stream",
     "text": [
      "Unzipping files:  54%|█████▍    | 49/90 [04:07<05:22,  7.86s/it]"
     ]
    },
    {
     "name": "stdout",
     "output_type": "stream",
     "text": [
      "Unzipped ipa231207_r1.zip to E:\\unzipped_patents_23_24\n"
     ]
    },
    {
     "name": "stderr",
     "output_type": "stream",
     "text": [
      "Unzipping files:  56%|█████▌    | 50/90 [04:14<05:01,  7.53s/it]"
     ]
    },
    {
     "name": "stdout",
     "output_type": "stream",
     "text": [
      "Unzipped ipa231214_r1.zip to E:\\unzipped_patents_23_24\n"
     ]
    },
    {
     "name": "stderr",
     "output_type": "stream",
     "text": [
      "Unzipping files:  57%|█████▋    | 51/90 [04:23<05:08,  7.91s/it]"
     ]
    },
    {
     "name": "stdout",
     "output_type": "stream",
     "text": [
      "Unzipped ipa231221_r1.zip to E:\\unzipped_patents_23_24\n"
     ]
    },
    {
     "name": "stderr",
     "output_type": "stream",
     "text": [
      "Unzipping files:  58%|█████▊    | 52/90 [04:32<05:13,  8.25s/it]"
     ]
    },
    {
     "name": "stdout",
     "output_type": "stream",
     "text": [
      "Unzipped ipa231228_r1.zip to E:\\unzipped_patents_23_24\n"
     ]
    },
    {
     "name": "stderr",
     "output_type": "stream",
     "text": [
      "Unzipping files:  59%|█████▉    | 53/90 [04:42<05:33,  9.01s/it]"
     ]
    },
    {
     "name": "stdout",
     "output_type": "stream",
     "text": [
      "Unzipped ipa240104_r1.zip to E:\\unzipped_patents_23_24\n"
     ]
    },
    {
     "name": "stderr",
     "output_type": "stream",
     "text": [
      "Unzipping files:  60%|██████    | 54/90 [04:50<05:05,  8.50s/it]"
     ]
    },
    {
     "name": "stdout",
     "output_type": "stream",
     "text": [
      "Unzipped ipa240111_r1.zip to E:\\unzipped_patents_23_24\n"
     ]
    },
    {
     "name": "stderr",
     "output_type": "stream",
     "text": [
      "Unzipping files:  61%|██████    | 55/90 [04:58<04:52,  8.36s/it]"
     ]
    },
    {
     "name": "stdout",
     "output_type": "stream",
     "text": [
      "Unzipped ipa240118_r1.zip to E:\\unzipped_patents_23_24\n"
     ]
    },
    {
     "name": "stderr",
     "output_type": "stream",
     "text": [
      "Unzipping files:  62%|██████▏   | 56/90 [05:08<04:58,  8.79s/it]"
     ]
    },
    {
     "name": "stdout",
     "output_type": "stream",
     "text": [
      "Unzipped ipa240125_r1.zip to E:\\unzipped_patents_23_24\n"
     ]
    },
    {
     "name": "stderr",
     "output_type": "stream",
     "text": [
      "Unzipping files:  63%|██████▎   | 57/90 [05:17<04:51,  8.85s/it]"
     ]
    },
    {
     "name": "stdout",
     "output_type": "stream",
     "text": [
      "Unzipped ipa240201_r1.zip to E:\\unzipped_patents_23_24\n"
     ]
    },
    {
     "name": "stderr",
     "output_type": "stream",
     "text": [
      "Unzipping files:  64%|██████▍   | 58/90 [05:28<05:02,  9.46s/it]"
     ]
    },
    {
     "name": "stdout",
     "output_type": "stream",
     "text": [
      "Unzipped ipa240208_r1.zip to E:\\unzipped_patents_23_24\n"
     ]
    },
    {
     "name": "stderr",
     "output_type": "stream",
     "text": [
      "Unzipping files:  66%|██████▌   | 59/90 [05:35<04:34,  8.87s/it]"
     ]
    },
    {
     "name": "stdout",
     "output_type": "stream",
     "text": [
      "Unzipped ipa240215.zip to E:\\unzipped_patents_23_24\n"
     ]
    },
    {
     "name": "stderr",
     "output_type": "stream",
     "text": [
      "Unzipping files:  67%|██████▋   | 60/90 [05:44<04:25,  8.84s/it]"
     ]
    },
    {
     "name": "stdout",
     "output_type": "stream",
     "text": [
      "Unzipped ipa240222.zip to E:\\unzipped_patents_23_24\n"
     ]
    },
    {
     "name": "stderr",
     "output_type": "stream",
     "text": [
      "Unzipping files:  68%|██████▊   | 61/90 [05:53<04:19,  8.96s/it]"
     ]
    },
    {
     "name": "stdout",
     "output_type": "stream",
     "text": [
      "Unzipped ipa240229.zip to E:\\unzipped_patents_23_24\n"
     ]
    },
    {
     "name": "stderr",
     "output_type": "stream",
     "text": [
      "Unzipping files:  69%|██████▉   | 62/90 [06:00<03:50,  8.23s/it]"
     ]
    },
    {
     "name": "stdout",
     "output_type": "stream",
     "text": [
      "Unzipped ipa240307.zip to E:\\unzipped_patents_23_24\n"
     ]
    },
    {
     "name": "stderr",
     "output_type": "stream",
     "text": [
      "Unzipping files:  70%|███████   | 63/90 [06:11<04:08,  9.22s/it]"
     ]
    },
    {
     "name": "stdout",
     "output_type": "stream",
     "text": [
      "Unzipped ipa240314.zip to E:\\unzipped_patents_23_24\n"
     ]
    },
    {
     "name": "stderr",
     "output_type": "stream",
     "text": [
      "Unzipping files:  71%|███████   | 64/90 [06:21<04:07,  9.54s/it]"
     ]
    },
    {
     "name": "stdout",
     "output_type": "stream",
     "text": [
      "Unzipped ipa240321.zip to E:\\unzipped_patents_23_24\n"
     ]
    },
    {
     "name": "stderr",
     "output_type": "stream",
     "text": [
      "Unzipping files:  72%|███████▏  | 65/90 [06:32<04:09,  9.99s/it]"
     ]
    },
    {
     "name": "stdout",
     "output_type": "stream",
     "text": [
      "Unzipped ipa240328.zip to E:\\unzipped_patents_23_24\n"
     ]
    },
    {
     "name": "stderr",
     "output_type": "stream",
     "text": [
      "Unzipping files:  73%|███████▎  | 66/90 [06:42<03:57,  9.89s/it]"
     ]
    },
    {
     "name": "stdout",
     "output_type": "stream",
     "text": [
      "Unzipped ipa240404.zip to E:\\unzipped_patents_23_24\n"
     ]
    },
    {
     "name": "stderr",
     "output_type": "stream",
     "text": [
      "Unzipping files:  74%|███████▍  | 67/90 [06:52<03:48,  9.92s/it]"
     ]
    },
    {
     "name": "stdout",
     "output_type": "stream",
     "text": [
      "Unzipped ipa240411.zip to E:\\unzipped_patents_23_24\n"
     ]
    },
    {
     "name": "stderr",
     "output_type": "stream",
     "text": [
      "Unzipping files:  76%|███████▌  | 68/90 [07:02<03:41, 10.05s/it]"
     ]
    },
    {
     "name": "stdout",
     "output_type": "stream",
     "text": [
      "Unzipped ipa240418.zip to E:\\unzipped_patents_23_24\n"
     ]
    },
    {
     "name": "stderr",
     "output_type": "stream",
     "text": [
      "Unzipping files:  77%|███████▋  | 69/90 [07:13<03:34, 10.23s/it]"
     ]
    },
    {
     "name": "stdout",
     "output_type": "stream",
     "text": [
      "Unzipped ipa240425.zip to E:\\unzipped_patents_23_24\n"
     ]
    },
    {
     "name": "stderr",
     "output_type": "stream",
     "text": [
      "Unzipping files:  78%|███████▊  | 70/90 [07:24<03:30, 10.51s/it]"
     ]
    },
    {
     "name": "stdout",
     "output_type": "stream",
     "text": [
      "Unzipped ipa240502.zip to E:\\unzipped_patents_23_24\n"
     ]
    },
    {
     "name": "stderr",
     "output_type": "stream",
     "text": [
      "Unzipping files:  79%|███████▉  | 71/90 [07:34<03:16, 10.36s/it]"
     ]
    },
    {
     "name": "stdout",
     "output_type": "stream",
     "text": [
      "Unzipped ipa240509.zip to E:\\unzipped_patents_23_24\n"
     ]
    },
    {
     "name": "stderr",
     "output_type": "stream",
     "text": [
      "Unzipping files:  80%|████████  | 72/90 [07:45<03:11, 10.63s/it]"
     ]
    },
    {
     "name": "stdout",
     "output_type": "stream",
     "text": [
      "Unzipped ipa240516.zip to E:\\unzipped_patents_23_24\n"
     ]
    },
    {
     "name": "stderr",
     "output_type": "stream",
     "text": [
      "Unzipping files:  81%|████████  | 73/90 [07:53<02:42,  9.57s/it]"
     ]
    },
    {
     "name": "stdout",
     "output_type": "stream",
     "text": [
      "Unzipped ipa240523.zip to E:\\unzipped_patents_23_24\n"
     ]
    },
    {
     "name": "stderr",
     "output_type": "stream",
     "text": [
      "Unzipping files:  82%|████████▏ | 74/90 [08:03<02:37,  9.83s/it]"
     ]
    },
    {
     "name": "stdout",
     "output_type": "stream",
     "text": [
      "Unzipped ipa240530.zip to E:\\unzipped_patents_23_24\n"
     ]
    },
    {
     "name": "stderr",
     "output_type": "stream",
     "text": [
      "Unzipping files:  83%|████████▎ | 75/90 [08:14<02:33, 10.26s/it]"
     ]
    },
    {
     "name": "stdout",
     "output_type": "stream",
     "text": [
      "Unzipped ipa240606.zip to E:\\unzipped_patents_23_24\n"
     ]
    },
    {
     "name": "stderr",
     "output_type": "stream",
     "text": [
      "Unzipping files:  84%|████████▍ | 76/90 [08:24<02:22, 10.20s/it]"
     ]
    },
    {
     "name": "stdout",
     "output_type": "stream",
     "text": [
      "Unzipped ipa240613.zip to E:\\unzipped_patents_23_24\n"
     ]
    },
    {
     "name": "stderr",
     "output_type": "stream",
     "text": [
      "Unzipping files:  86%|████████▌ | 77/90 [08:36<02:17, 10.57s/it]"
     ]
    },
    {
     "name": "stdout",
     "output_type": "stream",
     "text": [
      "Unzipped ipa240620.zip to E:\\unzipped_patents_23_24\n"
     ]
    },
    {
     "name": "stderr",
     "output_type": "stream",
     "text": [
      "Unzipping files:  87%|████████▋ | 78/90 [08:47<02:11, 10.92s/it]"
     ]
    },
    {
     "name": "stdout",
     "output_type": "stream",
     "text": [
      "Unzipped ipa240627.zip to E:\\unzipped_patents_23_24\n"
     ]
    },
    {
     "name": "stderr",
     "output_type": "stream",
     "text": [
      "Unzipping files:  88%|████████▊ | 79/90 [08:58<01:58, 10.78s/it]"
     ]
    },
    {
     "name": "stdout",
     "output_type": "stream",
     "text": [
      "Unzipped ipa240704.zip to E:\\unzipped_patents_23_24\n"
     ]
    },
    {
     "name": "stderr",
     "output_type": "stream",
     "text": [
      "Unzipping files:  89%|████████▉ | 80/90 [09:14<02:03, 12.33s/it]"
     ]
    },
    {
     "name": "stdout",
     "output_type": "stream",
     "text": [
      "Unzipped ipa240711.zip to E:\\unzipped_patents_23_24\n"
     ]
    },
    {
     "name": "stderr",
     "output_type": "stream",
     "text": [
      "Unzipping files:  90%|█████████ | 81/90 [09:23<01:42, 11.35s/it]"
     ]
    },
    {
     "name": "stdout",
     "output_type": "stream",
     "text": [
      "Unzipped ipa240718.zip to E:\\unzipped_patents_23_24\n"
     ]
    },
    {
     "name": "stderr",
     "output_type": "stream",
     "text": [
      "Unzipping files:  91%|█████████ | 82/90 [09:31<01:22, 10.29s/it]"
     ]
    },
    {
     "name": "stdout",
     "output_type": "stream",
     "text": [
      "Unzipped ipa240725.zip to E:\\unzipped_patents_23_24\n"
     ]
    },
    {
     "name": "stderr",
     "output_type": "stream",
     "text": [
      "Unzipping files:  92%|█████████▏| 83/90 [09:44<01:17, 11.09s/it]"
     ]
    },
    {
     "name": "stdout",
     "output_type": "stream",
     "text": [
      "Unzipped ipa240801.zip to E:\\unzipped_patents_23_24\n"
     ]
    },
    {
     "name": "stderr",
     "output_type": "stream",
     "text": [
      "Unzipping files:  93%|█████████▎| 84/90 [09:54<01:05, 10.95s/it]"
     ]
    },
    {
     "name": "stdout",
     "output_type": "stream",
     "text": [
      "Unzipped ipa240808.zip to E:\\unzipped_patents_23_24\n"
     ]
    },
    {
     "name": "stderr",
     "output_type": "stream",
     "text": [
      "Unzipping files:  94%|█████████▍| 85/90 [10:05<00:54, 10.87s/it]"
     ]
    },
    {
     "name": "stdout",
     "output_type": "stream",
     "text": [
      "Unzipped ipa240815.zip to E:\\unzipped_patents_23_24\n"
     ]
    },
    {
     "name": "stderr",
     "output_type": "stream",
     "text": [
      "Unzipping files:  96%|█████████▌| 86/90 [10:15<00:42, 10.71s/it]"
     ]
    },
    {
     "name": "stdout",
     "output_type": "stream",
     "text": [
      "Unzipped ipa240822.zip to E:\\unzipped_patents_23_24\n"
     ]
    },
    {
     "name": "stderr",
     "output_type": "stream",
     "text": [
      "Unzipping files:  97%|█████████▋| 87/90 [10:27<00:32, 10.93s/it]"
     ]
    },
    {
     "name": "stdout",
     "output_type": "stream",
     "text": [
      "Unzipped ipa240829.zip to E:\\unzipped_patents_23_24\n"
     ]
    },
    {
     "name": "stderr",
     "output_type": "stream",
     "text": [
      "Unzipping files:  98%|█████████▊| 88/90 [10:34<00:19,  9.85s/it]"
     ]
    },
    {
     "name": "stdout",
     "output_type": "stream",
     "text": [
      "Unzipped ipa240905.zip to E:\\unzipped_patents_23_24\n"
     ]
    },
    {
     "name": "stderr",
     "output_type": "stream",
     "text": [
      "Unzipping files:  99%|█████████▉| 89/90 [10:43<00:09,  9.67s/it]"
     ]
    },
    {
     "name": "stdout",
     "output_type": "stream",
     "text": [
      "Unzipped ipa240912.zip to E:\\unzipped_patents_23_24\n"
     ]
    },
    {
     "name": "stderr",
     "output_type": "stream",
     "text": [
      "Unzipping files: 100%|██████████| 90/90 [10:55<00:00,  7.28s/it]"
     ]
    },
    {
     "name": "stdout",
     "output_type": "stream",
     "text": [
      "Unzipped ipa240919.zip to E:\\unzipped_patents_23_24\n"
     ]
    },
    {
     "name": "stderr",
     "output_type": "stream",
     "text": [
      "\n"
     ]
    }
   ],
   "source": [
    "download_path = \"E:\\\\patents_data_23_24\"\n",
    "unzip_path = \"E:\\\\unzipped_patents_23_24\"\n",
    "unzip_files(download_path, unzip_path)"
   ]
  },
  {
   "cell_type": "markdown",
   "metadata": {},
   "source": [
    "# Processing"
   ]
  },
  {
   "cell_type": "code",
   "execution_count": 2,
   "metadata": {},
   "outputs": [],
   "source": [
    "import os\n",
    "def process_xml_files(directory_path):\n",
    "    \"\"\"\n",
    "    Process all XML files in the given directory and split them into parts.\n",
    "    \n",
    "    Args:\n",
    "        directory_path (str): Path to directory containing XML files\n",
    "        \n",
    "    Returns:\n",
    "        list: Combined list of XML parts from all files\n",
    "    \"\"\"\n",
    "    all_xml_parts = []\n",
    "    \n",
    "    # Get all XML files in directory\n",
    "    xml_files = [f for f in os.listdir(directory_path) if f.endswith('.xml')]\n",
    "    \n",
    "    # Process each file\n",
    "    for xml_file in xml_files:\n",
    "        file_path = os.path.join(directory_path, xml_file)\n",
    "        try:\n",
    "            with open(file_path, \"r\", encoding=\"utf-8\") as file:\n",
    "                content = file.read()\n",
    "                parts = content.split('<?xml version=\"1.0\" encoding=\"UTF-8\"?>')\n",
    "                # Remove empty parts and extend master list\n",
    "                parts = [p for p in parts if p.strip()]\n",
    "                all_xml_parts.extend(parts)\n",
    "        except Exception as e:\n",
    "            print(f\"Error processing {xml_file}: {str(e)}\")\n",
    "    \n",
    "    return all_xml_parts\n",
    "xml_parts = process_xml_files(unzip_path)"
   ]
  },
  {
   "cell_type": "code",
   "execution_count": 3,
   "metadata": {},
   "outputs": [
    {
     "data": {
      "text/plain": [
       "71672"
      ]
     },
     "execution_count": 3,
     "metadata": {},
     "output_type": "execute_result"
    }
   ],
   "source": [
    "len(xml_parts)"
   ]
  },
  {
   "cell_type": "code",
   "execution_count": 2,
   "metadata": {},
   "outputs": [
    {
     "ename": "MemoryError",
     "evalue": "",
     "output_type": "error",
     "traceback": [
      "\u001b[1;31m---------------------------------------------------------------------------\u001b[0m",
      "\u001b[1;31mMemoryError\u001b[0m                               Traceback (most recent call last)",
      "Input \u001b[1;32mIn [2]\u001b[0m, in \u001b[0;36m<cell line: 14>\u001b[1;34m()\u001b[0m\n\u001b[0;32m     12\u001b[0m         content \u001b[38;5;241m=\u001b[39m file\u001b[38;5;241m.\u001b[39mread()\n\u001b[0;32m     13\u001b[0m     \u001b[38;5;28;01mreturn\u001b[39;00m content\n\u001b[1;32m---> 14\u001b[0m xml_parts \u001b[38;5;241m=\u001b[39m \u001b[43mread_xml_file\u001b[49m\u001b[43m(\u001b[49m\u001b[38;5;124;43m\"\u001b[39;49m\u001b[38;5;124;43mE:\u001b[39;49m\u001b[38;5;130;43;01m\\\\\u001b[39;49;00m\u001b[38;5;124;43m2023-092024.xml\u001b[39;49m\u001b[38;5;124;43m\"\u001b[39;49m\u001b[43m)\u001b[49m\n",
      "Input \u001b[1;32mIn [2]\u001b[0m, in \u001b[0;36mread_xml_file\u001b[1;34m(file_path)\u001b[0m\n\u001b[0;32m      2\u001b[0m \u001b[38;5;124;03m\"\"\"\u001b[39;00m\n\u001b[0;32m      3\u001b[0m \u001b[38;5;124;03mRead the content of an XML file.\u001b[39;00m\n\u001b[0;32m      4\u001b[0m \u001b[38;5;124;03m\u001b[39;00m\n\u001b[1;32m   (...)\u001b[0m\n\u001b[0;32m      9\u001b[0m \u001b[38;5;124;03m    str: Content of the XML file\u001b[39;00m\n\u001b[0;32m     10\u001b[0m \u001b[38;5;124;03m\"\"\"\u001b[39;00m\n\u001b[0;32m     11\u001b[0m \u001b[38;5;28;01mwith\u001b[39;00m \u001b[38;5;28mopen\u001b[39m(file_path, \u001b[38;5;124m\"\u001b[39m\u001b[38;5;124mr\u001b[39m\u001b[38;5;124m\"\u001b[39m, encoding\u001b[38;5;241m=\u001b[39m\u001b[38;5;124m\"\u001b[39m\u001b[38;5;124mutf-8\u001b[39m\u001b[38;5;124m\"\u001b[39m) \u001b[38;5;28;01mas\u001b[39;00m file:\n\u001b[1;32m---> 12\u001b[0m     content \u001b[38;5;241m=\u001b[39m \u001b[43mfile\u001b[49m\u001b[38;5;241;43m.\u001b[39;49m\u001b[43mread\u001b[49m\u001b[43m(\u001b[49m\u001b[43m)\u001b[49m\n\u001b[0;32m     13\u001b[0m \u001b[38;5;28;01mreturn\u001b[39;00m content\n",
      "File \u001b[1;32mc:\\ProgramData\\anaconda3\\lib\\codecs.py:322\u001b[0m, in \u001b[0;36mBufferedIncrementalDecoder.decode\u001b[1;34m(self, input, final)\u001b[0m\n\u001b[0;32m    319\u001b[0m \u001b[38;5;28;01mdef\u001b[39;00m \u001b[38;5;21mdecode\u001b[39m(\u001b[38;5;28mself\u001b[39m, \u001b[38;5;28minput\u001b[39m, final\u001b[38;5;241m=\u001b[39m\u001b[38;5;28;01mFalse\u001b[39;00m):\n\u001b[0;32m    320\u001b[0m     \u001b[38;5;66;03m# decode input (taking the buffer into account)\u001b[39;00m\n\u001b[0;32m    321\u001b[0m     data \u001b[38;5;241m=\u001b[39m \u001b[38;5;28mself\u001b[39m\u001b[38;5;241m.\u001b[39mbuffer \u001b[38;5;241m+\u001b[39m \u001b[38;5;28minput\u001b[39m\n\u001b[1;32m--> 322\u001b[0m     (result, consumed) \u001b[38;5;241m=\u001b[39m \u001b[38;5;28;43mself\u001b[39;49m\u001b[38;5;241;43m.\u001b[39;49m\u001b[43m_buffer_decode\u001b[49m\u001b[43m(\u001b[49m\u001b[43mdata\u001b[49m\u001b[43m,\u001b[49m\u001b[43m \u001b[49m\u001b[38;5;28;43mself\u001b[39;49m\u001b[38;5;241;43m.\u001b[39;49m\u001b[43merrors\u001b[49m\u001b[43m,\u001b[49m\u001b[43m \u001b[49m\u001b[43mfinal\u001b[49m\u001b[43m)\u001b[49m\n\u001b[0;32m    323\u001b[0m     \u001b[38;5;66;03m# keep undecoded input until the next call\u001b[39;00m\n\u001b[0;32m    324\u001b[0m     \u001b[38;5;28mself\u001b[39m\u001b[38;5;241m.\u001b[39mbuffer \u001b[38;5;241m=\u001b[39m data[consumed:]\n",
      "\u001b[1;31mMemoryError\u001b[0m: "
     ]
    }
   ],
   "source": [
    "def read_xml_file(file_path):\n",
    "    \"\"\"\n",
    "    Read the content of an XML file.\n",
    "    \n",
    "    Args:\n",
    "        file_path (str): Path to the XML file\n",
    "    \n",
    "    Returns:\n",
    "        str: Content of the XML file\n",
    "    \"\"\"\n",
    "    with open(file_path, \"r\", encoding=\"utf-8\") as file:\n",
    "        content = file.read()\n",
    "    return content\n",
    "xml_parts = read_xml_file(\"E:\\\\2023-092024.xml\")\n"
   ]
  },
  {
   "cell_type": "code",
   "execution_count": 3,
   "metadata": {},
   "outputs": [],
   "source": [
    "# with open(\"2023-092024.xml\", \"w\", encoding=\"utf-8\") as file:\n",
    "#         for part in xml_parts:\n",
    "#             file.write(part)\n",
    "#             file.write(\"\\n\")"
   ]
  },
  {
   "cell_type": "code",
   "execution_count": 2,
   "metadata": {},
   "outputs": [],
   "source": [
    "# with open(\"unzipped_patents_data\\\\ipa230105.xml\", \"r\", encoding=\"utf-8\") as file:\n",
    "#     content = file.read()\n",
    "# xml_parts = content.split('<?xml version=\"1.0\" encoding=\"UTF-8\"?>')"
   ]
  },
  {
   "cell_type": "code",
   "execution_count": 4,
   "metadata": {},
   "outputs": [],
   "source": [
    "xml_no_dup = remove_duplicate_docs(xml_parts)\n",
    "print(f\"Number of duplicates {len(xml_parts) - len(xml_no_dup)} out of {len(xml_parts)}\")"
   ]
  },
  {
   "cell_type": "code",
   "execution_count": 3,
   "metadata": {},
   "outputs": [],
   "source": [
    "# from bs4 import BeautifulSoup\n",
    "\n",
    "# def extract_experiments_w_heading(text):\n",
    "#     \"\"\"Extracts the 'Examples' section and its experiments from a patent text.\"\"\"\n",
    "\n",
    "#     # Use BeautifulSoup to parse the structure (for HTML-like patents)\n",
    "#     soup = BeautifulSoup(text, \"html.parser\")\n",
    "\n",
    "#     # Find the \"EXAMPLES\" section heading\n",
    "#     examples_heading = soup.find(\n",
    "#         lambda tag: tag.name == \"heading\"\n",
    "#         and (\n",
    "#             \"EXAMPLES\" in tag.text.upper()\n",
    "#             or \"EXAMPLE\" == tag.text.upper()\n",
    "#             or \"EXPERIMENT\" == tag.text.upper()\n",
    "#             or \"EXPERIMENTS\" in tag.text.upper()\n",
    "#         )\n",
    "#     )\n",
    "#     if not examples_heading:\n",
    "#         # print(\"No 'Examples' section found.\")\n",
    "#         return None\n",
    "\n",
    "\n",
    "#     return examples_heading "
   ]
  },
  {
   "cell_type": "code",
   "execution_count": null,
   "metadata": {},
   "outputs": [
    {
     "name": "stdout",
     "output_type": "stream",
     "text": [
      "100/8048 so far found 19 docs with experiments\n",
      "200/8048 so far found 33 docs with experiments\n",
      "300/8048 so far found 36 docs with experiments\n",
      "400/8048 so far found 41 docs with experiments\n",
      "500/8048 so far found 45 docs with experiments\n",
      "600/8048 so far found 48 docs with experiments\n",
      "700/8048 so far found 49 docs with experiments\n",
      "800/8048 so far found 94 docs with experiments\n",
      "900/8048 so far found 151 docs with experiments\n",
      "1000/8048 so far found 192 docs with experiments\n",
      "1100/8048 so far found 238 docs with experiments\n",
      "1200/8048 so far found 257 docs with experiments\n",
      "1300/8048 so far found 264 docs with experiments\n",
      "1400/8048 so far found 269 docs with experiments\n",
      "1500/8048 so far found 303 docs with experiments\n",
      "1600/8048 so far found 308 docs with experiments\n",
      "1700/8048 so far found 313 docs with experiments\n",
      "1800/8048 so far found 331 docs with experiments\n",
      "1900/8048 so far found 337 docs with experiments\n",
      "2000/8048 so far found 342 docs with experiments\n",
      "2100/8048 so far found 345 docs with experiments\n",
      "2200/8048 so far found 346 docs with experiments\n",
      "2300/8048 so far found 348 docs with experiments\n",
      "2400/8048 so far found 375 docs with experiments\n",
      "2500/8048 so far found 450 docs with experiments\n",
      "2600/8048 so far found 500 docs with experiments\n",
      "2700/8048 so far found 550 docs with experiments\n",
      "2800/8048 so far found 606 docs with experiments\n",
      "2900/8048 so far found 658 docs with experiments\n",
      "3000/8048 so far found 700 docs with experiments\n",
      "3100/8048 so far found 726 docs with experiments\n",
      "3200/8048 so far found 740 docs with experiments\n",
      "3300/8048 so far found 741 docs with experiments\n",
      "3400/8048 so far found 741 docs with experiments\n",
      "3500/8048 so far found 742 docs with experiments\n",
      "3600/8048 so far found 744 docs with experiments\n",
      "3700/8048 so far found 747 docs with experiments\n",
      "3800/8048 so far found 748 docs with experiments\n",
      "3900/8048 so far found 754 docs with experiments\n",
      "4000/8048 so far found 780 docs with experiments\n",
      "4100/8048 so far found 783 docs with experiments\n",
      "4200/8048 so far found 784 docs with experiments\n",
      "4300/8048 so far found 790 docs with experiments\n",
      "4400/8048 so far found 802 docs with experiments\n",
      "4500/8048 so far found 802 docs with experiments\n",
      "4600/8048 so far found 806 docs with experiments\n",
      "4700/8048 so far found 806 docs with experiments\n",
      "4800/8048 so far found 809 docs with experiments\n",
      "4900/8048 so far found 810 docs with experiments\n",
      "5000/8048 so far found 811 docs with experiments\n",
      "5100/8048 so far found 817 docs with experiments\n",
      "5200/8048 so far found 819 docs with experiments\n",
      "5300/8048 so far found 827 docs with experiments\n",
      "5400/8048 so far found 834 docs with experiments\n",
      "5500/8048 so far found 837 docs with experiments\n",
      "5600/8048 so far found 844 docs with experiments\n",
      "5700/8048 so far found 846 docs with experiments\n",
      "5800/8048 so far found 852 docs with experiments\n",
      "5900/8048 so far found 866 docs with experiments\n",
      "6000/8048 so far found 868 docs with experiments\n",
      "6100/8048 so far found 869 docs with experiments\n",
      "6200/8048 so far found 870 docs with experiments\n",
      "6300/8048 so far found 872 docs with experiments\n",
      "6400/8048 so far found 886 docs with experiments\n",
      "6500/8048 so far found 921 docs with experiments\n",
      "6600/8048 so far found 926 docs with experiments\n",
      "6700/8048 so far found 930 docs with experiments\n",
      "6800/8048 so far found 931 docs with experiments\n",
      "6900/8048 so far found 932 docs with experiments\n",
      "7000/8048 so far found 935 docs with experiments\n",
      "7100/8048 so far found 935 docs with experiments\n",
      "7200/8048 so far found 939 docs with experiments\n",
      "7300/8048 so far found 941 docs with experiments\n",
      "7400/8048 so far found 943 docs with experiments\n",
      "7500/8048 so far found 949 docs with experiments\n",
      "7600/8048 so far found 953 docs with experiments\n",
      "7700/8048 so far found 954 docs with experiments\n",
      "7800/8048 so far found 954 docs with experiments\n",
      "7900/8048 so far found 955 docs with experiments\n",
      "8000/8048 so far found 957 docs with experiments\n"
     ]
    },
    {
     "data": {
      "text/plain": [
       "'100/7824 so far found 20 docs with experiments\\n200/7824 so far found 34 docs with experiments\\n300/7824 so far found 36 docs with experiments\\n400/7824 so far found 42 docs with experiments\\n500/7824 so far found 45 docs with experiments\\n600/7824 so far found 49 docs with experiments\\n700/7824 so far found 51 docs with experiments\\n800/7824 so far found 98 docs with experiments\\n900/7824 so far found 162 docs with experiments\\n1000/7824 so far found 217 docs with experiments\\n1100/7824 so far found 253 docs with experiments\\n1200/7824 so far found 261 docs with experiments\\n1300/7824 so far found 266 docs with experiments\\n1400/7824 so far found 295 docs with experiments\\n1500/7824 so far found 304 docs with experiments\\n1600/7824 so far found 309 docs with experiments\\n1700/7824 so far found 328 docs with experiments\\n1800/7824 so far found 333 docs with experiments\\n1900/7824 so far found 339 docs with experiments\\n2000/7824 so far found 342 docs with experiments\\n2100/7824 so far found 343 docs with experiments\\n2200/7824 so far found 345 docs with experiments\\n2300/7824 so far found 358 docs with experiments\\n2400/7824 so far found 439 docs with experiments\\n2500/7824 so far found 510 docs with experiments\\nno dup 949  out of 7824 in 13.5 minutes'"
      ]
     },
     "execution_count": 7,
     "metadata": {},
     "output_type": "execute_result"
    }
   ],
   "source": [
    "\n",
    "doc_w_exp = {}\n",
    "i = 0\n",
    "for xml in xml_no_dup:\n",
    "    i += 1\n",
    "    if i % 100 == 0:\n",
    "        print(f\"{i}/{len(xml_no_dup)} so far found {len(doc_w_exp)} docs with experiments\")\n",
    "    heading = extract_experiments_w_heading(xml)\n",
    "    if heading:\n",
    "        extracted_examples = []\n",
    "        if len(heading) >1:\n",
    "            for example in heading:\n",
    "                extracted_ex_start_w_word = extract_examples_start_w_word(example.find_next_siblings())\n",
    "                if len(extracted_ex_start_w_word) > 0:\n",
    "                    extracted_examples.append(extracted_ex_start_w_word)\n",
    "                else:\n",
    "                    extracted_ex_w_word = process_siblings(example.find_next_siblings())\n",
    "                    if extracted_ex_w_word:\n",
    "                        if len(extracted_ex_w_word) > 0:\n",
    "                            extracted_examples.append(extracted_ex_w_word)\n",
    "                    else:\n",
    "                        num_dot_examples = extract_num_dot_examples(str(heading[0].find_next_siblings()))\n",
    "                        if len(num_dot_examples) > 0:\n",
    "                            extracted_examples.append(num_dot_examples)\n",
    "        elif len(heading) == 1:\n",
    "            example_start_w = extract_examples_start_w_word(heading[0].find_next_siblings())\n",
    "            if example_start_w:\n",
    "                if len(example_start_w[0][\"content\"]) == 0:\n",
    "                    extracted_ex_w_word = process_siblings(heading[0].find_next_siblings())\n",
    "                    if len(extracted_ex_w_word) > 0:\n",
    "                        extracted_examples.append(extracted_ex_w_word)\n",
    "                else:\n",
    "                    extracted_examples.append(example_start_w)\n",
    "            else:\n",
    "                extracted_ex_w_word = process_siblings(heading[0].find_next_siblings())\n",
    "                if extracted_ex_w_word:\n",
    "                    if len(extracted_ex_w_word) > 0:\n",
    "                        extracted_examples.append(extracted_ex_w_word)\n",
    "                else:\n",
    "                    num_dot_examples = extract_num_dot_examples(str(heading[0].find_next_siblings()))\n",
    "                    if len(num_dot_examples) > 0:\n",
    "                        extracted_examples.append(num_dot_examples)\n",
    "        else:\n",
    "            extracted_ex_w_word = extract_examples_w_word(xml)\n",
    "            if extracted_ex_w_word:\n",
    "                extracted_examples.append(extracted_ex_w_word)\n",
    "            # else:\n",
    "            #     num_dot_examples = extract_num_dot_examples(str(heading[0].find_next_siblings()))\n",
    "            #     extracted_examples.append(num_dot_examples)\n",
    "    \n",
    "        \n",
    "    \n",
    "        if len(extracted_examples) > 0:\n",
    "            doc_w_exp[int(find_doc_number(xml)[0])] = extracted_examples\n",
    "            # if len(doc_w_exp) == 100:\n",
    "            #     break\n",
    "\n",
    "\n",
    "\"\"\"100/8048 so far found 17 docs with experiments\n",
    "200/8048 so far found 30 docs with experiments\n",
    "300/8048 so far found 33 docs with experiments\n",
    "400/8048 so far found 38 docs with experiments\n",
    "500/8048 so far found 42 docs with experiments\n",
    "600/8048 so far found 45 docs with experiments\n",
    "700/8048 so far found 46 docs with experiments\n",
    "800/8048 so far found 90 docs with experiments\n",
    "900/8048 so far found 146 docs with experiments\n",
    "1000/8048 so far found 187 docs with experiments\n",
    "1100/8048 so far found 233 docs with experiments\n",
    "1200/8048 so far found 251 docs with experiments\n",
    "1300/8048 so far found 258 docs with experiments\n",
    "1400/8048 so far found 263 docs with experiments\n",
    "1500/8048 so far found 294 docs with experiments\n",
    "1600/8048 so far found 298 docs with experiments\n",
    "1700/8048 so far found 302 docs with experiments\n",
    "1800/8048 so far found 320 docs with experiments\n",
    "1900/8048 so far found 326 docs with experiments\n",
    "2000/8048 so far found 329 docs with experiments\n",
    "2100/8048 so far found 331 docs with experiments\n",
    "2200/8048 so far found 332 docs with experiments\n",
    "2300/8048 so far found 334 docs with experiments\n",
    "2400/8048 so far found 361 docs with experiments\n",
    "2500/8048 so far found 435 docs with experiments\n",
    "with dup: 1196   out of 8048 in 12 minutes\"\"\"\n",
    "\n",
    "\"\"\"100/7824 so far found 20 docs with experiments\n",
    "200/7824 so far found 34 docs with experiments\n",
    "300/7824 so far found 36 docs with experiments\n",
    "400/7824 so far found 42 docs with experiments\n",
    "500/7824 so far found 45 docs with experiments\n",
    "600/7824 so far found 49 docs with experiments\n",
    "700/7824 so far found 51 docs with experiments\n",
    "800/7824 so far found 98 docs with experiments\n",
    "900/7824 so far found 162 docs with experiments\n",
    "1000/7824 so far found 217 docs with experiments\n",
    "1100/7824 so far found 253 docs with experiments\n",
    "1200/7824 so far found 261 docs with experiments\n",
    "1300/7824 so far found 266 docs with experiments\n",
    "1400/7824 so far found 295 docs with experiments\n",
    "1500/7824 so far found 304 docs with experiments\n",
    "1600/7824 so far found 309 docs with experiments\n",
    "1700/7824 so far found 328 docs with experiments\n",
    "1800/7824 so far found 333 docs with experiments\n",
    "1900/7824 so far found 339 docs with experiments\n",
    "2000/7824 so far found 342 docs with experiments\n",
    "2100/7824 so far found 343 docs with experiments\n",
    "2200/7824 so far found 345 docs with experiments\n",
    "2300/7824 so far found 358 docs with experiments\n",
    "2400/7824 so far found 439 docs with experiments\n",
    "2500/7824 so far found 510 docs with experiments\n",
    "no dup 949  out of 7824 in 13.5 minutes\"\"\""
   ]
  },
  {
   "cell_type": "code",
   "execution_count": 8,
   "metadata": {},
   "outputs": [
    {
     "name": "stdout",
     "output_type": "stream",
     "text": [
      "Saved as 957_w_dup.json\n"
     ]
    }
   ],
   "source": [
    "save_as_json(doc_w_exp,filename=\"test_no_dup.json\")"
   ]
  },
  {
   "cell_type": "code",
   "execution_count": 11,
   "metadata": {},
   "outputs": [],
   "source": [
    "def process_document_examples(xml_parts, max_docs=100):\n",
    "    \"\"\"Process and extract examples from XML documents.\n",
    "    \n",
    "    Args:\n",
    "        xml_parts (list): List of XML document parts\n",
    "        max_docs (int): Maximum number of documents to process\n",
    "        \n",
    "    Returns:\n",
    "        dict: Document numbers mapped to extracted examples\n",
    "    \"\"\"\n",
    "    doc_with_examples = {}\n",
    "    \n",
    "    for xml in xml_parts:\n",
    "        example_headings = extract_experiments_w_heading(xml)\n",
    "        if not example_headings:\n",
    "            continue\n",
    "            \n",
    "        extracted_examples = []\n",
    "        \n",
    "        try:\n",
    "            if len(example_headings) > 1:\n",
    "                # Process multiple headings\n",
    "                for heading in example_headings:\n",
    "                    siblings = heading.find_next_siblings()\n",
    "                    examples = extract_examples_start_w_word(siblings)\n",
    "                    \n",
    "                    if examples:\n",
    "                        extracted_examples.append(examples)\n",
    "                    else:\n",
    "                        processed = process_siblings(siblings)\n",
    "                        if processed:\n",
    "                            extracted_examples.append(processed)\n",
    "                            \n",
    "            else:\n",
    "                # Process single heading\n",
    "                siblings = example_headings[0].find_next_siblings()\n",
    "                examples = extract_examples_start_w_word(siblings)\n",
    "                \n",
    "                if examples and examples[0][\"content\"]:\n",
    "                    extracted_examples.append(examples)\n",
    "                else:\n",
    "                    processed = process_siblings(siblings)\n",
    "                    if processed:\n",
    "                        extracted_examples.append(processed)\n",
    "            \n",
    "            # Fall back to direct XML processing if needed\n",
    "            if not extracted_examples:\n",
    "                examples = extract_examples_w_word(xml)\n",
    "                if examples:\n",
    "                    extracted_examples.append(examples)\n",
    "            \n",
    "            # Store results if examples found\n",
    "            if extracted_examples:\n",
    "                doc_number = int(find_doc_number(xml)[0])\n",
    "                doc_with_examples[doc_number] = extracted_examples\n",
    "                \n",
    "                if len(doc_with_examples) >= max_docs:\n",
    "                    break\n",
    "                    \n",
    "        except Exception as e:\n",
    "            print(f\"Error processing document: {str(e)}\")\n",
    "            continue\n",
    "            \n",
    "    return doc_with_examples\n"
   ]
  }
 ],
 "metadata": {
  "kernelspec": {
   "display_name": "cuda",
   "language": "python",
   "name": "python3"
  },
  "language_info": {
   "codemirror_mode": {
    "name": "ipython",
    "version": 3
   },
   "file_extension": ".py",
   "mimetype": "text/x-python",
   "name": "python",
   "nbconvert_exporter": "python",
   "pygments_lexer": "ipython3",
   "version": "3.9.12"
  }
 },
 "nbformat": 4,
 "nbformat_minor": 2
}
