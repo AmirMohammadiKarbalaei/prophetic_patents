{
 "cells": [
  {
   "cell_type": "code",
   "execution_count": 1,
   "metadata": {},
   "outputs": [
    {
     "name": "stderr",
     "output_type": "stream",
     "text": [
      "[nltk_data] Downloading package averaged_perceptron_tagger to\n",
      "[nltk_data]     C:\\Users\\amoha\\AppData\\Roaming\\nltk_data...\n",
      "[nltk_data]   Package averaged_perceptron_tagger is already up-to-\n",
      "[nltk_data]       date!\n",
      "[nltk_data] Downloading package punkt to\n",
      "[nltk_data]     C:\\Users\\amoha\\AppData\\Roaming\\nltk_data...\n",
      "[nltk_data]   Package punkt is already up-to-date!\n"
     ]
    }
   ],
   "source": [
    "from utilities.utils_clean import download_patents_pto,unzip_files,extract_and_save_examples_in_db"
   ]
  },
  {
   "cell_type": "code",
   "execution_count": 8,
   "metadata": {},
   "outputs": [
    {
     "name": "stdout",
     "output_type": "stream",
     "text": [
      "Processing ipg150106.xml... (1/52)\n",
      "Processed 1000/6526...\n",
      "Processed 2000/6526...\n",
      "Processed 3000/6526...\n",
      "Processed 4000/6526...\n",
      "Processed 5000/6526...\n",
      "Processed 6000/6526...\n",
      "\n",
      "Extracted examples from 915 patents out of 6526 patents\n",
      "\n",
      "Classifying  Examples ......\n",
      "\n",
      "Storing Examples in Database ......\n",
      "Processing ipg150113.xml... (2/52)\n",
      "Processed 1000/5132...\n",
      "Processed 2000/5132...\n",
      "Processed 3000/5132...\n",
      "Processed 4000/5132...\n",
      "Processed 5000/5132...\n",
      "\n",
      "Extracted examples from 1747 patents out of 11658 patents\n",
      "\n",
      "Classifying  Examples ......\n",
      "\n",
      "Storing Examples in Database ......\n",
      "Processing ipg150120.xml... (3/52)\n",
      "Processed 1000/3321...\n",
      "Processed 2000/3321...\n",
      "Processed 3000/3321...\n",
      "\n",
      "Extracted examples from 2232 patents out of 14979 patents\n",
      "\n",
      "Classifying  Examples ......\n",
      "\n",
      "Storing Examples in Database ......\n",
      "Processing ipg150127.xml... (4/52)\n",
      "Processed 1000/5309...\n",
      "Processed 2000/5309...\n",
      "Processed 3000/5309...\n",
      "Processed 4000/5309...\n",
      "Processed 5000/5309...\n",
      "\n",
      "Extracted examples from 2975 patents out of 20288 patents\n",
      "\n",
      "Classifying  Examples ......\n",
      "\n",
      "Storing Examples in Database ......\n",
      "Processing ipg150203.xml... (5/52)\n"
     ]
    },
    {
     "ename": "KeyboardInterrupt",
     "evalue": "",
     "output_type": "error",
     "traceback": [
      "\u001b[1;31m---------------------------------------------------------------------------\u001b[0m",
      "\u001b[1;31mKeyboardInterrupt\u001b[0m                         Traceback (most recent call last)",
      "Cell \u001b[1;32mIn[8], line 31\u001b[0m\n\u001b[0;32m     29\u001b[0m         \u001b[38;5;28;01mpass\u001b[39;00m\n\u001b[0;32m     30\u001b[0m     \u001b[38;5;28;01melse\u001b[39;00m:\n\u001b[1;32m---> 31\u001b[0m         \u001b[43mextract_and_save_examples_in_db\u001b[49m\u001b[43m(\u001b[49m\u001b[38;5;124;43m\"\u001b[39;49m\u001b[38;5;124;43mdata/\u001b[39;49m\u001b[38;5;124;43m\"\u001b[39;49m\u001b[38;5;241;43m+\u001b[39;49m\u001b[43mfile\u001b[49m\u001b[43m)\u001b[49m\n\u001b[0;32m     34\u001b[0m \u001b[38;5;66;03m# download_patents_pto(start_year=2015, end_year=2015, kind='grant',download_path=\"data\")\u001b[39;00m\n\u001b[0;32m     35\u001b[0m \u001b[38;5;66;03m# unzip_files(\"data\",\"patent_grants_2015\")\u001b[39;00m\n\u001b[0;32m     36\u001b[0m \n\u001b[1;32m   (...)\u001b[0m\n\u001b[0;32m     40\u001b[0m \u001b[38;5;66;03m#     path_to_all_xmls_for_chosen_year=\"../data/patent_grants_2015\"  # Directory containing XML files\u001b[39;00m\n\u001b[0;32m     41\u001b[0m \u001b[38;5;66;03m# )\u001b[39;00m\n",
      "File \u001b[1;32md:\\prophetic_patents\\notebooks\\utilities\\utils_clean.py:434\u001b[0m, in \u001b[0;36mextract_and_save_examples_in_db\u001b[1;34m(folder_path)\u001b[0m\n\u001b[0;32m    432\u001b[0m \u001b[38;5;28;01melse\u001b[39;00m:\n\u001b[0;32m    433\u001b[0m     not_found_heading \u001b[38;5;241m+\u001b[39m\u001b[38;5;241m=\u001b[39m \u001b[38;5;241m1\u001b[39m\n\u001b[1;32m--> 434\u001b[0m     soup \u001b[38;5;241m=\u001b[39m \u001b[43mBeautifulSoup\u001b[49m\u001b[43m(\u001b[49m\u001b[43mxml\u001b[49m\u001b[43m,\u001b[49m\u001b[43m \u001b[49m\u001b[38;5;124;43m\"\u001b[39;49m\u001b[38;5;124;43mxml\u001b[39;49m\u001b[38;5;124;43m\"\u001b[39;49m\u001b[43m)\u001b[49m\n\u001b[0;32m    435\u001b[0m     siblings \u001b[38;5;241m=\u001b[39m soup\u001b[38;5;241m.\u001b[39mfind_all([\u001b[38;5;124m\"\u001b[39m\u001b[38;5;124mheading\u001b[39m\u001b[38;5;124m\"\u001b[39m, \u001b[38;5;124m\"\u001b[39m\u001b[38;5;124mp\u001b[39m\u001b[38;5;124m\"\u001b[39m])\n\u001b[0;32m    436\u001b[0m     examples \u001b[38;5;241m=\u001b[39m extract_examples_start_w_word(siblings)\n",
      "File \u001b[1;32m~\\AppData\\Roaming\\Python\\Python312\\site-packages\\bs4\\__init__.py:335\u001b[0m, in \u001b[0;36mBeautifulSoup.__init__\u001b[1;34m(self, markup, features, builder, parse_only, from_encoding, exclude_encodings, element_classes, **kwargs)\u001b[0m\n\u001b[0;32m    333\u001b[0m \u001b[38;5;28mself\u001b[39m\u001b[38;5;241m.\u001b[39mbuilder\u001b[38;5;241m.\u001b[39minitialize_soup(\u001b[38;5;28mself\u001b[39m)\n\u001b[0;32m    334\u001b[0m \u001b[38;5;28;01mtry\u001b[39;00m:\n\u001b[1;32m--> 335\u001b[0m     \u001b[38;5;28;43mself\u001b[39;49m\u001b[38;5;241;43m.\u001b[39;49m\u001b[43m_feed\u001b[49m\u001b[43m(\u001b[49m\u001b[43m)\u001b[49m\n\u001b[0;32m    336\u001b[0m     success \u001b[38;5;241m=\u001b[39m \u001b[38;5;28;01mTrue\u001b[39;00m\n\u001b[0;32m    337\u001b[0m     \u001b[38;5;28;01mbreak\u001b[39;00m\n",
      "File \u001b[1;32m~\\AppData\\Roaming\\Python\\Python312\\site-packages\\bs4\\__init__.py:478\u001b[0m, in \u001b[0;36mBeautifulSoup._feed\u001b[1;34m(self)\u001b[0m\n\u001b[0;32m    475\u001b[0m \u001b[38;5;66;03m# Convert the document to Unicode.\u001b[39;00m\n\u001b[0;32m    476\u001b[0m \u001b[38;5;28mself\u001b[39m\u001b[38;5;241m.\u001b[39mbuilder\u001b[38;5;241m.\u001b[39mreset()\n\u001b[1;32m--> 478\u001b[0m \u001b[38;5;28;43mself\u001b[39;49m\u001b[38;5;241;43m.\u001b[39;49m\u001b[43mbuilder\u001b[49m\u001b[38;5;241;43m.\u001b[39;49m\u001b[43mfeed\u001b[49m\u001b[43m(\u001b[49m\u001b[38;5;28;43mself\u001b[39;49m\u001b[38;5;241;43m.\u001b[39;49m\u001b[43mmarkup\u001b[49m\u001b[43m)\u001b[49m\n\u001b[0;32m    479\u001b[0m \u001b[38;5;66;03m# Close out any unfinished strings and close all the open tags.\u001b[39;00m\n\u001b[0;32m    480\u001b[0m \u001b[38;5;28mself\u001b[39m\u001b[38;5;241m.\u001b[39mendData()\n",
      "File \u001b[1;32m~\\AppData\\Roaming\\Python\\Python312\\site-packages\\bs4\\builder\\_lxml.py:232\u001b[0m, in \u001b[0;36mLXMLTreeBuilderForXML.feed\u001b[1;34m(self, markup)\u001b[0m\n\u001b[0;32m    230\u001b[0m \u001b[38;5;28;01mtry\u001b[39;00m:\n\u001b[0;32m    231\u001b[0m     \u001b[38;5;28mself\u001b[39m\u001b[38;5;241m.\u001b[39mparser \u001b[38;5;241m=\u001b[39m \u001b[38;5;28mself\u001b[39m\u001b[38;5;241m.\u001b[39mparser_for(\u001b[38;5;28mself\u001b[39m\u001b[38;5;241m.\u001b[39msoup\u001b[38;5;241m.\u001b[39moriginal_encoding)\n\u001b[1;32m--> 232\u001b[0m     \u001b[38;5;28;43mself\u001b[39;49m\u001b[38;5;241;43m.\u001b[39;49m\u001b[43mparser\u001b[49m\u001b[38;5;241;43m.\u001b[39;49m\u001b[43mfeed\u001b[49m\u001b[43m(\u001b[49m\u001b[43mdata\u001b[49m\u001b[43m)\u001b[49m\n\u001b[0;32m    233\u001b[0m     \u001b[38;5;28;01mwhile\u001b[39;00m \u001b[38;5;28mlen\u001b[39m(data) \u001b[38;5;241m!=\u001b[39m \u001b[38;5;241m0\u001b[39m:\n\u001b[0;32m    234\u001b[0m         \u001b[38;5;66;03m# Now call feed() on the rest of the data, chunk by chunk.\u001b[39;00m\n\u001b[0;32m    235\u001b[0m         data \u001b[38;5;241m=\u001b[39m markup\u001b[38;5;241m.\u001b[39mread(\u001b[38;5;28mself\u001b[39m\u001b[38;5;241m.\u001b[39mCHUNK_SIZE)\n",
      "File \u001b[1;32msrc\\\\lxml\\\\parser.pxi:1331\u001b[0m, in \u001b[0;36mlxml.etree._FeedParser.feed\u001b[1;34m()\u001b[0m\n",
      "File \u001b[1;32msrc\\\\lxml\\\\parser.pxi:1451\u001b[0m, in \u001b[0;36mlxml.etree._FeedParser.feed\u001b[1;34m()\u001b[0m\n",
      "File \u001b[1;32msrc\\\\lxml\\\\parsertarget.pxi:161\u001b[0m, in \u001b[0;36mlxml.etree._TargetParserContext._handleParseResult\u001b[1;34m()\u001b[0m\n",
      "File \u001b[1;32msrc\\\\lxml\\\\parsertarget.pxi:156\u001b[0m, in \u001b[0;36mlxml.etree._TargetParserContext._handleParseResult\u001b[1;34m()\u001b[0m\n",
      "File \u001b[1;32msrc\\\\lxml\\\\etree.pyx:351\u001b[0m, in \u001b[0;36mlxml.etree._ExceptionContext._raise_if_stored\u001b[1;34m()\u001b[0m\n",
      "File \u001b[1;32msrc\\\\lxml\\\\saxparser.pxi:593\u001b[0m, in \u001b[0;36mlxml.etree._handleSaxTargetDoctype\u001b[1;34m()\u001b[0m\n",
      "File \u001b[1;32msrc\\\\lxml\\\\parsertarget.pxi:111\u001b[0m, in \u001b[0;36mlxml.etree._PythonSaxParserTarget._handleSaxDoctype\u001b[1;34m()\u001b[0m\n",
      "File \u001b[1;32m~\\AppData\\Roaming\\Python\\Python312\\site-packages\\bs4\\builder\\_lxml.py:348\u001b[0m, in \u001b[0;36mLXMLTreeBuilderForXML.doctype\u001b[1;34m(self, name, pubid, system)\u001b[0m\n\u001b[0;32m    345\u001b[0m \u001b[38;5;28;01mdef\u001b[39;00m \u001b[38;5;21mdata\u001b[39m(\u001b[38;5;28mself\u001b[39m, content):\n\u001b[0;32m    346\u001b[0m     \u001b[38;5;28mself\u001b[39m\u001b[38;5;241m.\u001b[39msoup\u001b[38;5;241m.\u001b[39mhandle_data(content)\n\u001b[1;32m--> 348\u001b[0m \u001b[38;5;28;01mdef\u001b[39;00m \u001b[38;5;21mdoctype\u001b[39m(\u001b[38;5;28mself\u001b[39m, name, pubid, system):\n\u001b[0;32m    349\u001b[0m     \u001b[38;5;28mself\u001b[39m\u001b[38;5;241m.\u001b[39msoup\u001b[38;5;241m.\u001b[39mendData()\n\u001b[0;32m    350\u001b[0m     doctype \u001b[38;5;241m=\u001b[39m Doctype\u001b[38;5;241m.\u001b[39mfor_name_and_ids(name, pubid, system)\n",
      "\u001b[1;31mKeyboardInterrupt\u001b[0m: "
     ]
    }
   ],
   "source": [
    "import os\n",
    "kind = \"grant\"\n",
    "start_year = 2015\n",
    "end_year = 2015\n",
    "\n",
    "if start_year < end_year:\n",
    "    for year in range(start_year, end_year+1):\n",
    "        downloaded,download_path = download_patents_pto(year=year, kind=kind)\n",
    "        if downloaded:\n",
    "            unzip_path = f\"data//patent_{kind}s_{year}\"\n",
    "            unzip_files(download_path,unzip_path )\n",
    "            print(f\"Patents for {year} downloaded and unzipped\")\n",
    "    print(\"Download and unzipping complete\")\n",
    "\n",
    "elif start_year == end_year:\n",
    "    downloaded,download_path = download_patents_pto(year=start_year, kind=kind)\n",
    "    if downloaded:\n",
    "        unzip_path = f\"data//patent_{kind}s_{start_year}\"\n",
    "        unzip_files(download_path,unzip_path )\n",
    "        print(f\"Patents for {start_year} downloaded and unzipped\")\n",
    "    print(f\"Download and unzipping complete for the year {start_year}\")\n",
    "else:\n",
    "    print(\"Invalid year range\")\n",
    "\n",
    "\n",
    "files = os.listdir(\"data\")\n",
    "for file in files:\n",
    "    if file.endswith(\".zip\"):\n",
    "        pass\n",
    "    else:\n",
    "        extract_and_save_examples_in_db(\"data/\"+file)\n",
    "\n",
    "\n",
    "# download_patents_pto(start_year=2015, end_year=2015, kind='grant',download_path=\"data\")\n",
    "# unzip_files(\"data\",\"patent_grants_2015\")\n",
    " \n",
    "# test_dataset = create_test_dataset_from_freilich(\n",
    "#     year=2015,  # The year you want to analyze\n",
    "#     freilich_data_path=\"../data/Freilich.Data.Compressed.xlsb\",  # Path to your Freilich dataset\n",
    "#     path_to_all_xmls_for_chosen_year=\"../data/patent_grants_2015\"  # Directory containing XML files\n",
    "# )"
   ]
  },
  {
   "cell_type": "code",
   "execution_count": 3,
   "metadata": {},
   "outputs": [],
   "source": [
    "files = os.listdir(\"data\")\n",
    "for file in files:\n",
    "    if file.endswith(\".zip\"):\n",
    "        pass\n",
    "    else:\n",
    "        extract_and_save_examples_in_db(\"data/\"+file)"
   ]
  }
 ],
 "metadata": {
  "kernelspec": {
   "display_name": "cuda",
   "language": "python",
   "name": "python3"
  },
  "language_info": {
   "codemirror_mode": {
    "name": "ipython",
    "version": 3
   },
   "file_extension": ".py",
   "mimetype": "text/x-python",
   "name": "python",
   "nbconvert_exporter": "python",
   "pygments_lexer": "ipython3",
   "version": "3.12.3"
  }
 },
 "nbformat": 4,
 "nbformat_minor": 2
}
